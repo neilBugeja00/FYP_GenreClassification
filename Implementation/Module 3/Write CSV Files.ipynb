{
 "cells": [
  {
   "cell_type": "code",
   "execution_count": 1,
   "id": "3fbbbe14",
   "metadata": {},
   "outputs": [],
   "source": [
    "import os\n",
    "import json\n",
    "import csv\n",
    "import sys\n",
    "import numpy as np\n",
    "import matplotlib.pyplot as plt\n",
    "import librosa"
   ]
  },
  {
   "cell_type": "code",
   "execution_count": 2,
   "id": "4e27bbee",
   "metadata": {},
   "outputs": [
    {
     "data": {
      "text/plain": [
       "131072"
      ]
     },
     "execution_count": 2,
     "metadata": {},
     "output_type": "execute_result"
    }
   ],
   "source": [
    "audio_path = \"./FMA Final\"\n",
    "\n",
    "csv_path_30secs = \"csv_fma_30secs_data.csv\"\n",
    "csv_path_3secs = \"csv_fma_3secs_data.csv\"\n",
    "csv_path_10secs = \"csv_fma_10secs_data.csv\"\n",
    "\n",
    "sr=22050\n",
    "\n",
    "csv.field_size_limit(sys.maxsize)"
   ]
  },
  {
   "cell_type": "code",
   "execution_count": 3,
   "id": "792daf9a",
   "metadata": {},
   "outputs": [],
   "source": [
    "TOTAL_SAMPLES = 29 * sr\n",
    "\n",
    "NUM_SLICES = 3\n",
    "SAMPLES_PER_SLICE = int(TOTAL_SAMPLES / NUM_SLICES)"
   ]
  },
  {
   "cell_type": "code",
   "execution_count": 4,
   "id": "8ad4c553",
   "metadata": {},
   "outputs": [],
   "source": [
    "#Write MFCC to CSV\n",
    "def csv_write_data(audio_path, csv_path, NUM_SLICES, SAMPLES_PER_SLICE) :\n",
    "    #Create a list of rows for writing to CSV\n",
    "    rows = []\n",
    "\n",
    "    #Generate MFCC for every song & writing in JSON\n",
    "    for i, (dirpath, dirnames, filenames) in enumerate(os.walk(audio_path)):\n",
    "        for file in filenames:\n",
    "            #Generate MFCC\n",
    "            song, sr = librosa.load(os.path.join(dirpath, file),duration=29)\n",
    "\n",
    "            for s in range(NUM_SLICES):\n",
    "                start_sample = SAMPLES_PER_SLICE * s\n",
    "                end_sample = start_sample + SAMPLES_PER_SLICE\n",
    "                \n",
    "                \n",
    "                mfcc = librosa.feature.mfcc(y=song[start_sample:end_sample], sr=sr, n_mfcc=40)\n",
    "                mfcc = mfcc.T\n",
    "\n",
    "                rows.append([i-1,json.dumps(mfcc.tolist())])\n",
    "                \n",
    "        print(\"Writing to CSV!\")\n",
    "        print(dirnames)\n",
    "        \n",
    "            #Writing CSV\n",
    "        with open(csv_path, 'w', newline='') as csvfile:\n",
    "            writer = csv.writer(csvfile)\n",
    "\n",
    "            # Write the header row\n",
    "            writer.writerow([\"genre\", \"mfcc\"])\n",
    "\n",
    "            # Write the values rows\n",
    "            for row in rows:\n",
    "                writer.writerow(row)"
   ]
  },
  {
   "cell_type": "code",
   "execution_count": 5,
   "id": "069206b3",
   "metadata": {},
   "outputs": [],
   "source": [
    "#Read MFCC data from CSV\n",
    "def csv_read_data(csv_path):\n",
    "    # Load data from CSV file\n",
    "    with open(csv_path, 'r') as csvfile:\n",
    "        reader = csv.reader(csvfile)\n",
    "\n",
    "        # Skip the header row\n",
    "        next(reader)\n",
    "\n",
    "        # Initialize lists to hold genre and MFCC data\n",
    "        genres = []\n",
    "        mfcc = []\n",
    "\n",
    "        # Iterate over each row of the CSV file\n",
    "        for row in reader:\n",
    "            # Extract genre and MFCC data from the row\n",
    "            genre = int(row[0])\n",
    "            mfcc_data = json.loads(row[1])\n",
    "\n",
    "            # Append genre and MFCC data to lists\n",
    "            genres.append(genre)\n",
    "            mfcc.append(mfcc_data)\n",
    "\n",
    "    # Convert lists to numpy arrays\n",
    "    X = np.array(mfcc)\n",
    "    y = np.array(genres)\n",
    "\n",
    "    return X, y"
   ]
  },
  {
   "cell_type": "code",
   "execution_count": 6,
   "id": "905f53a3",
   "metadata": {},
   "outputs": [],
   "source": [
    "#=============== MAIN ===============\n",
    "#CSV WRITING DATA"
   ]
  },
  {
   "cell_type": "code",
   "execution_count": 7,
   "id": "ae9354ac",
   "metadata": {},
   "outputs": [
    {
     "name": "stdout",
     "output_type": "stream",
     "text": [
      "Writing to CSV!\n",
      "['classical', 'folk', 'hiphop', 'jazz', 'pop', 'rock']\n",
      "Writing to CSV!\n",
      "[]\n",
      "Writing to CSV!\n",
      "[]\n",
      "Writing to CSV!\n",
      "[]\n",
      "Writing to CSV!\n",
      "[]\n",
      "Writing to CSV!\n",
      "[]\n",
      "Writing to CSV!\n",
      "[]\n"
     ]
    }
   ],
   "source": [
    "num_slices_30sec = 1\n",
    "samples_slice_30sec = int(TOTAL_SAMPLES / num_slices_30sec)\n",
    "\n",
    "csv_write_data(audio_path, csv_path_30secs, num_slices_30sec, samples_slice_30sec)"
   ]
  },
  {
   "cell_type": "code",
   "execution_count": 8,
   "id": "ec611c7a",
   "metadata": {},
   "outputs": [
    {
     "name": "stdout",
     "output_type": "stream",
     "text": [
      "Writing to CSV!\n",
      "['classical', 'folk', 'hiphop', 'jazz', 'pop', 'rock']\n",
      "Writing to CSV!\n",
      "[]\n",
      "Writing to CSV!\n",
      "[]\n",
      "Writing to CSV!\n",
      "[]\n",
      "Writing to CSV!\n",
      "[]\n",
      "Writing to CSV!\n",
      "[]\n",
      "Writing to CSV!\n",
      "[]\n"
     ]
    }
   ],
   "source": [
    "num_slices_10sec = 3\n",
    "samples_slice_10sec = int(TOTAL_SAMPLES / num_slices_10sec)\n",
    "\n",
    "csv_write_data(audio_path, csv_path_10secs, num_slices_10sec, samples_slice_10sec)"
   ]
  }
 ],
 "metadata": {
  "kernelspec": {
   "display_name": "Python 3 (ipykernel)",
   "language": "python",
   "name": "python3"
  },
  "language_info": {
   "codemirror_mode": {
    "name": "ipython",
    "version": 3
   },
   "file_extension": ".py",
   "mimetype": "text/x-python",
   "name": "python",
   "nbconvert_exporter": "python",
   "pygments_lexer": "ipython3",
   "version": "3.8.10"
  }
 },
 "nbformat": 4,
 "nbformat_minor": 5
}
