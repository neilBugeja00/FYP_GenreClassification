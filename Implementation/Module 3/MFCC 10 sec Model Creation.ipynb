{
 "cells": [
  {
   "cell_type": "code",
   "execution_count": 1,
   "id": "ae1179b4",
   "metadata": {},
   "outputs": [
    {
     "name": "stderr",
     "output_type": "stream",
     "text": [
      "2023-05-16 22:04:42.397162: I tensorflow/core/platform/cpu_feature_guard.cc:182] This TensorFlow binary is optimized to use available CPU instructions in performance-critical operations.\n",
      "To enable the following instructions: AVX2 FMA, in other operations, rebuild TensorFlow with the appropriate compiler flags.\n"
     ]
    }
   ],
   "source": [
    "import os\n",
    "import json\n",
    "import csv\n",
    "import sys\n",
    "import numpy as np\n",
    "import matplotlib.pyplot as plt\n",
    "import librosa\n",
    "import tensorflow as tf\n",
    "from sklearn.model_selection import train_test_split, StratifiedShuffleSplit\n",
    "from tensorflow.keras.utils import plot_model\n",
    "import datetime\n",
    "import time\n",
    "from tensorflow.keras.callbacks import TensorBoard"
   ]
  },
  {
   "cell_type": "code",
   "execution_count": 2,
   "id": "b70b38c7",
   "metadata": {},
   "outputs": [
    {
     "data": {
      "text/plain": [
       "131072"
      ]
     },
     "execution_count": 2,
     "metadata": {},
     "output_type": "execute_result"
    }
   ],
   "source": [
    "csv_path = \"csv_fma_10secs_data.csv\"\n",
    "sr=22050\n",
    "csv.field_size_limit(sys.maxsize)"
   ]
  },
  {
   "cell_type": "code",
   "execution_count": 3,
   "id": "88b67eb9",
   "metadata": {},
   "outputs": [],
   "source": [
    "#Read MFCC data from CSV\n",
    "def csv_read_data(csv_path):\n",
    "    # Load data from CSV file\n",
    "    with open(csv_path, 'r') as csvfile:\n",
    "        reader = csv.reader(csvfile)\n",
    "\n",
    "        # Skip the header row\n",
    "        next(reader)\n",
    "\n",
    "        # Initialize lists to hold genre and MFCC data\n",
    "        genres = []\n",
    "        mfcc = []\n",
    "\n",
    "        # Iterate over each row of the CSV file\n",
    "        for row in reader:\n",
    "            # Extract genre and MFCC data from the row\n",
    "            genre = int(row[0])\n",
    "            mfcc_data = json.loads(row[1])\n",
    "\n",
    "            # Append genre and MFCC data to lists\n",
    "            genres.append(genre)\n",
    "            mfcc.append(mfcc_data)\n",
    "\n",
    "    # Convert lists to numpy arrays\n",
    "    X = np.array(mfcc)\n",
    "    y = np.array(genres)\n",
    "\n",
    "    return X, y"
   ]
  },
  {
   "cell_type": "code",
   "execution_count": 4,
   "id": "380da5df",
   "metadata": {},
   "outputs": [],
   "source": [
    "def stratified_split_dataset(inputs, targets, test_split_size, val_split_size):\n",
    "    sss = StratifiedShuffleSplit(n_splits=1, test_size=test_split_size, random_state=42)\n",
    "    \n",
    "    train_val_indices, test_indices = next(sss.split(inputs, targets))\n",
    "    inputs_train_val, targets_train_val = inputs[train_val_indices], targets[train_val_indices]\n",
    "    \n",
    "    val_size = val_split_size / (1 - test_split_size)\n",
    "    sss_train = StratifiedShuffleSplit(n_splits=1, test_size=val_size, random_state=43)\n",
    "    train_indices, val_indices = next(sss_train.split(inputs_train_val, targets_train_val))\n",
    "    \n",
    "    inputs_train, targets_train = inputs_train_val[train_indices], targets_train_val[train_indices]\n",
    "    inputs_val, targets_val = inputs_train_val[val_indices], targets_train_val[val_indices]\n",
    "    inputs_test, targets_test = inputs[test_indices], targets[test_indices]\n",
    "    \n",
    "    # Needed for compatibility reasons\n",
    "    inputs_train = inputs_train[..., np.newaxis]\n",
    "    inputs_val = inputs_val[..., np.newaxis]\n",
    "    inputs_test=  inputs_test[..., np.newaxis]\n",
    "    \n",
    "    return inputs_train, inputs_val, inputs_test, targets_train, targets_val, targets_test\n"
   ]
  },
  {
   "cell_type": "code",
   "execution_count": 5,
   "id": "a43b97a7",
   "metadata": {},
   "outputs": [],
   "source": [
    "#Used to plot performance history of model\n",
    "def plot_performance(hist):\n",
    "    \n",
    "    acc = hist.history['acc']\n",
    "    val_acc = hist.history['val_acc']\n",
    "    loss = hist.history['loss']\n",
    "    val_loss = hist.history['val_loss']\n",
    "\n",
    "    epochs = range(len(acc))\n",
    "\n",
    "    plt.plot(epochs, acc, 'r', label='Training accuracy')\n",
    "    plt.plot(epochs, val_acc, 'b', label='Validation accuracy')\n",
    "    plt.title('Training and validation accuracy')\n",
    "    plt.legend()\n",
    "    plt.figure()\n",
    "\n",
    "    plt.plot(epochs, loss, 'r', label='Training Loss')\n",
    "    plt.plot(epochs, val_loss, 'b', label='Validation Loss')\n",
    "    plt.title('Training and validation loss')\n",
    "    plt.legend()\n",
    "\n",
    "    plt.show()"
   ]
  },
  {
   "cell_type": "code",
   "execution_count": 6,
   "id": "75a5b1f9",
   "metadata": {},
   "outputs": [],
   "source": [
    "#=============== MAIN ===============\n",
    "#Reading MFCC data from CSV\n",
    "inputs, targets = csv_read_data(csv_path)"
   ]
  },
  {
   "cell_type": "code",
   "execution_count": 7,
   "id": "c6aab7dd",
   "metadata": {},
   "outputs": [],
   "source": [
    "#Splitting data\n",
    "Xtrain, Xval, Xtest, ytrain, yval, ytest =stratified_split_dataset(inputs, targets, 0.15, 0.15)"
   ]
  },
  {
   "cell_type": "code",
   "execution_count": 8,
   "id": "a7bc7825",
   "metadata": {},
   "outputs": [
    {
     "name": "stdout",
     "output_type": "stream",
     "text": [
      "(7301, 417, 40, 1)\n",
      "(1565, 417, 40, 1)\n",
      "(1565, 417, 40, 1)\n"
     ]
    }
   ],
   "source": [
    "print(Xtrain.shape)\n",
    "print(Xtest.shape)\n",
    "print(Xval.shape)"
   ]
  },
  {
   "cell_type": "code",
   "execution_count": 9,
   "id": "8f53b3e6",
   "metadata": {},
   "outputs": [],
   "source": [
    "#Design the model\n",
    "def design_model(input_shape):\n",
    "    \n",
    "    model = tf.keras.models.Sequential([\n",
    "        \n",
    "        tf.keras.layers.Conv2D(64, (3,3), activation='relu', input_shape=input_shape),\n",
    "        tf.keras.layers.MaxPooling2D((3,3), strides=(2,2), padding='same'),\n",
    "        tf.keras.layers.BatchNormalization(),\n",
    "        \n",
    "        tf.keras.layers.Conv2D(64, (3,3), activation='relu'),\n",
    "        tf.keras.layers.MaxPooling2D((3,3), strides=(2,2), padding='same'),\n",
    "        tf.keras.layers.BatchNormalization(),\n",
    "        \n",
    "        tf.keras.layers.Conv2D(64, (3,3), activation='relu'),\n",
    "        tf.keras.layers.MaxPooling2D((3,3), strides=(2,2), padding='same'),\n",
    "        tf.keras.layers.BatchNormalization(),\n",
    "        tf.keras.layers.Dropout(0.3),\n",
    "        \n",
    "        tf.keras.layers.Conv2D(64, (3,3), activation='relu'),\n",
    "        tf.keras.layers.MaxPooling2D((3,3), strides=(2,2), padding='same'),\n",
    "        tf.keras.layers.Dropout(0.3),\n",
    "        \n",
    "        tf.keras.layers.Flatten(),\n",
    "        tf.keras.layers.Dense(64, activation='relu'), \n",
    "        tf.keras.layers.Dense(len(np.unique(targets)), activation='softmax')\n",
    "    ])\n",
    "    \n",
    "    return model"
   ]
  },
  {
   "cell_type": "code",
   "execution_count": 10,
   "id": "cea1a142",
   "metadata": {},
   "outputs": [
    {
     "name": "stderr",
     "output_type": "stream",
     "text": [
      "2023-05-16 22:06:34.848421: I tensorflow/core/common_runtime/gpu/gpu_device.cc:1635] Created device /job:localhost/replica:0/task:0/device:GPU:0 with 22077 MB memory:  -> device: 0, name: NVIDIA GeForce RTX 4090, pci bus id: 0000:c1:00.0, compute capability: 8.9\n"
     ]
    }
   ],
   "source": [
    "#Model Creation\n",
    "input_shape = (Xtrain.shape[1], Xtrain.shape[2], 1)\n",
    "model = design_model(input_shape)\n",
    "\n",
    "model.compile(optimizer = tf.keras.optimizers.Adam(learning_rate=0.0001),\n",
    "             loss = 'sparse_categorical_crossentropy',\n",
    "             metrics = ['acc'])"
   ]
  },
  {
   "cell_type": "code",
   "execution_count": 11,
   "id": "023c665c",
   "metadata": {},
   "outputs": [
    {
     "name": "stdout",
     "output_type": "stream",
     "text": [
      "Model: \"sequential\"\n",
      "_________________________________________________________________\n",
      " Layer (type)                Output Shape              Param #   \n",
      "=================================================================\n",
      " conv2d (Conv2D)             (None, 415, 38, 64)       640       \n",
      "                                                                 \n",
      " max_pooling2d (MaxPooling2D  (None, 208, 19, 64)      0         \n",
      " )                                                               \n",
      "                                                                 \n",
      " batch_normalization (BatchN  (None, 208, 19, 64)      256       \n",
      " ormalization)                                                   \n",
      "                                                                 \n",
      " conv2d_1 (Conv2D)           (None, 206, 17, 64)       36928     \n",
      "                                                                 \n",
      " max_pooling2d_1 (MaxPooling  (None, 103, 9, 64)       0         \n",
      " 2D)                                                             \n",
      "                                                                 \n",
      " batch_normalization_1 (Batc  (None, 103, 9, 64)       256       \n",
      " hNormalization)                                                 \n",
      "                                                                 \n",
      " conv2d_2 (Conv2D)           (None, 101, 7, 64)        36928     \n",
      "                                                                 \n",
      " max_pooling2d_2 (MaxPooling  (None, 51, 4, 64)        0         \n",
      " 2D)                                                             \n",
      "                                                                 \n",
      " batch_normalization_2 (Batc  (None, 51, 4, 64)        256       \n",
      " hNormalization)                                                 \n",
      "                                                                 \n",
      " dropout (Dropout)           (None, 51, 4, 64)         0         \n",
      "                                                                 \n",
      " conv2d_3 (Conv2D)           (None, 49, 2, 64)         36928     \n",
      "                                                                 \n",
      " max_pooling2d_3 (MaxPooling  (None, 25, 1, 64)        0         \n",
      " 2D)                                                             \n",
      "                                                                 \n",
      " dropout_1 (Dropout)         (None, 25, 1, 64)         0         \n",
      "                                                                 \n",
      " flatten (Flatten)           (None, 1600)              0         \n",
      "                                                                 \n",
      " dense (Dense)               (None, 64)                102464    \n",
      "                                                                 \n",
      " dense_1 (Dense)             (None, 6)                 390       \n",
      "                                                                 \n",
      "=================================================================\n",
      "Total params: 215,046\n",
      "Trainable params: 214,662\n",
      "Non-trainable params: 384\n",
      "_________________________________________________________________\n"
     ]
    }
   ],
   "source": [
    "#Model Summary\n",
    "model.summary()"
   ]
  },
  {
   "cell_type": "code",
   "execution_count": 12,
   "id": "09ddd289",
   "metadata": {},
   "outputs": [],
   "source": [
    "#TENSORBOARD\n",
    "NAME= \"MFCC 10secs Model\"\n",
    "log_dir = \"logs/fit/\" + NAME\n",
    "tensorboard_callback = [tf.keras.callbacks.TensorBoard(log_dir=log_dir, histogram_freq=1),tf.keras.callbacks.EarlyStopping(patience=5, restore_best_weights=True)] \n"
   ]
  },
  {
   "cell_type": "code",
   "execution_count": 13,
   "id": "60f6e3e0",
   "metadata": {},
   "outputs": [
    {
     "name": "stdout",
     "output_type": "stream",
     "text": [
      "Epoch 1/550\n"
     ]
    },
    {
     "name": "stderr",
     "output_type": "stream",
     "text": [
      "2023-05-16 22:06:36.657097: E tensorflow/core/grappler/optimizers/meta_optimizer.cc:954] layout failed: INVALID_ARGUMENT: Size of values 0 does not match size of permutation 4 @ fanin shape insequential/dropout/dropout/SelectV2-2-TransposeNHWCToNCHW-LayoutOptimizer\n",
      "2023-05-16 22:06:37.598943: I tensorflow/compiler/xla/stream_executor/cuda/cuda_dnn.cc:424] Loaded cuDNN version 8600\n",
      "2023-05-16 22:06:38.333676: I tensorflow/compiler/xla/stream_executor/cuda/cuda_blas.cc:637] TensorFloat-32 will be used for the matrix multiplication. This will only be logged once.\n",
      "2023-05-16 22:06:38.505280: I tensorflow/compiler/xla/service/service.cc:169] XLA service 0x7f2301ddee10 initialized for platform CUDA (this does not guarantee that XLA will be used). Devices:\n",
      "2023-05-16 22:06:38.505309: I tensorflow/compiler/xla/service/service.cc:177]   StreamExecutor device (0): NVIDIA GeForce RTX 4090, Compute Capability 8.9\n",
      "2023-05-16 22:06:38.509082: I tensorflow/compiler/mlir/tensorflow/utils/dump_mlir_util.cc:269] disabling MLIR crash reproducer, set env var `MLIR_CRASH_REPRODUCER_DIRECTORY` to enable.\n",
      "2023-05-16 22:06:38.637358: I ./tensorflow/compiler/jit/device_compiler.h:180] Compiled cluster using XLA!  This line is logged at most once for the lifetime of the process.\n"
     ]
    },
    {
     "name": "stdout",
     "output_type": "stream",
     "text": [
      "115/115 [==============================] - 7s 17ms/step - loss: 1.6261 - acc: 0.4087 - val_loss: 1.4462 - val_acc: 0.4102\n",
      "Epoch 2/550\n",
      "115/115 [==============================] - 1s 12ms/step - loss: 1.2304 - acc: 0.5388 - val_loss: 1.1591 - val_acc: 0.5917\n",
      "Epoch 3/550\n",
      "115/115 [==============================] - 1s 12ms/step - loss: 1.1372 - acc: 0.5742 - val_loss: 1.0622 - val_acc: 0.6083\n",
      "Epoch 4/550\n",
      "115/115 [==============================] - 1s 13ms/step - loss: 1.0800 - acc: 0.5940 - val_loss: 1.0237 - val_acc: 0.6096\n",
      "Epoch 5/550\n",
      "115/115 [==============================] - 1s 13ms/step - loss: 1.0405 - acc: 0.6143 - val_loss: 1.0031 - val_acc: 0.6339\n",
      "Epoch 6/550\n",
      "115/115 [==============================] - 1s 12ms/step - loss: 1.0134 - acc: 0.6191 - val_loss: 0.9981 - val_acc: 0.6166\n",
      "Epoch 7/550\n",
      "115/115 [==============================] - 1s 13ms/step - loss: 0.9813 - acc: 0.6357 - val_loss: 0.9589 - val_acc: 0.6441\n",
      "Epoch 8/550\n",
      "115/115 [==============================] - 1s 13ms/step - loss: 0.9629 - acc: 0.6410 - val_loss: 1.0149 - val_acc: 0.6224\n",
      "Epoch 9/550\n",
      "115/115 [==============================] - 1s 12ms/step - loss: 0.9514 - acc: 0.6480 - val_loss: 0.9490 - val_acc: 0.6543\n",
      "Epoch 10/550\n",
      "115/115 [==============================] - 1s 12ms/step - loss: 0.9259 - acc: 0.6551 - val_loss: 0.9286 - val_acc: 0.6594\n",
      "Epoch 11/550\n",
      "115/115 [==============================] - 1s 12ms/step - loss: 0.9031 - acc: 0.6651 - val_loss: 0.9384 - val_acc: 0.6498\n",
      "Epoch 12/550\n",
      "115/115 [==============================] - 1s 12ms/step - loss: 0.8888 - acc: 0.6705 - val_loss: 0.9153 - val_acc: 0.6588\n",
      "Epoch 13/550\n",
      "115/115 [==============================] - 1s 12ms/step - loss: 0.8655 - acc: 0.6737 - val_loss: 0.9234 - val_acc: 0.6537\n",
      "Epoch 14/550\n",
      "115/115 [==============================] - 1s 12ms/step - loss: 0.8500 - acc: 0.6805 - val_loss: 0.9081 - val_acc: 0.6690\n",
      "Epoch 15/550\n",
      "115/115 [==============================] - 1s 12ms/step - loss: 0.8484 - acc: 0.6852 - val_loss: 0.9301 - val_acc: 0.6486\n",
      "Epoch 16/550\n",
      "115/115 [==============================] - 1s 12ms/step - loss: 0.8148 - acc: 0.6957 - val_loss: 0.9086 - val_acc: 0.6703\n",
      "Epoch 17/550\n",
      "115/115 [==============================] - 1s 12ms/step - loss: 0.8062 - acc: 0.6978 - val_loss: 0.8751 - val_acc: 0.6882\n",
      "Epoch 18/550\n",
      "115/115 [==============================] - 1s 12ms/step - loss: 0.7860 - acc: 0.7002 - val_loss: 0.8630 - val_acc: 0.6920\n",
      "Epoch 19/550\n",
      "115/115 [==============================] - 1s 12ms/step - loss: 0.7743 - acc: 0.7120 - val_loss: 0.8753 - val_acc: 0.6843\n",
      "Epoch 20/550\n",
      "115/115 [==============================] - 1s 12ms/step - loss: 0.7559 - acc: 0.7163 - val_loss: 0.8842 - val_acc: 0.6760\n",
      "Epoch 21/550\n",
      "115/115 [==============================] - 1s 12ms/step - loss: 0.7530 - acc: 0.7192 - val_loss: 0.8619 - val_acc: 0.6741\n",
      "Epoch 22/550\n",
      "115/115 [==============================] - 1s 12ms/step - loss: 0.7350 - acc: 0.7169 - val_loss: 0.8635 - val_acc: 0.6927\n",
      "Epoch 23/550\n",
      "115/115 [==============================] - 1s 12ms/step - loss: 0.7225 - acc: 0.7262 - val_loss: 0.8823 - val_acc: 0.6786\n",
      "Epoch 24/550\n",
      "115/115 [==============================] - 1s 12ms/step - loss: 0.7023 - acc: 0.7404 - val_loss: 0.8693 - val_acc: 0.6818\n",
      "Epoch 25/550\n",
      "115/115 [==============================] - 1s 12ms/step - loss: 0.6879 - acc: 0.7406 - val_loss: 0.8346 - val_acc: 0.7093\n",
      "Epoch 26/550\n",
      "115/115 [==============================] - 1s 12ms/step - loss: 0.6732 - acc: 0.7462 - val_loss: 0.8621 - val_acc: 0.6767\n",
      "Epoch 27/550\n",
      "115/115 [==============================] - 1s 12ms/step - loss: 0.6583 - acc: 0.7562 - val_loss: 0.8584 - val_acc: 0.6888\n",
      "Epoch 28/550\n",
      "115/115 [==============================] - 1s 12ms/step - loss: 0.6472 - acc: 0.7592 - val_loss: 0.8233 - val_acc: 0.7042\n",
      "Epoch 29/550\n",
      "115/115 [==============================] - 1s 12ms/step - loss: 0.6269 - acc: 0.7678 - val_loss: 0.8469 - val_acc: 0.7029\n",
      "Epoch 30/550\n",
      "115/115 [==============================] - 1s 13ms/step - loss: 0.6141 - acc: 0.7711 - val_loss: 0.8325 - val_acc: 0.6965\n",
      "Epoch 31/550\n",
      "115/115 [==============================] - 1s 13ms/step - loss: 0.6069 - acc: 0.7754 - val_loss: 0.8664 - val_acc: 0.6831\n",
      "Epoch 32/550\n",
      "115/115 [==============================] - 1s 13ms/step - loss: 0.6033 - acc: 0.7741 - val_loss: 0.8343 - val_acc: 0.6952\n",
      "Epoch 33/550\n",
      "115/115 [==============================] - 1s 13ms/step - loss: 0.5942 - acc: 0.7792 - val_loss: 0.8157 - val_acc: 0.7093\n",
      "Epoch 34/550\n",
      "115/115 [==============================] - 1s 13ms/step - loss: 0.5615 - acc: 0.7911 - val_loss: 0.8282 - val_acc: 0.7042\n",
      "Epoch 35/550\n",
      "115/115 [==============================] - 1s 13ms/step - loss: 0.5501 - acc: 0.7930 - val_loss: 0.8143 - val_acc: 0.7022\n",
      "Epoch 36/550\n",
      "115/115 [==============================] - 1s 13ms/step - loss: 0.5466 - acc: 0.8000 - val_loss: 0.8151 - val_acc: 0.7054\n",
      "Epoch 37/550\n",
      "115/115 [==============================] - 2s 13ms/step - loss: 0.5247 - acc: 0.8076 - val_loss: 0.8628 - val_acc: 0.6927\n",
      "Epoch 38/550\n",
      "115/115 [==============================] - 1s 13ms/step - loss: 0.5188 - acc: 0.8062 - val_loss: 0.8348 - val_acc: 0.7048\n",
      "Epoch 39/550\n",
      "115/115 [==============================] - 1s 12ms/step - loss: 0.5145 - acc: 0.8082 - val_loss: 0.8309 - val_acc: 0.7042\n",
      "Epoch 40/550\n",
      "115/115 [==============================] - 1s 12ms/step - loss: 0.5039 - acc: 0.8163 - val_loss: 0.8060 - val_acc: 0.7137\n",
      "Epoch 41/550\n",
      "115/115 [==============================] - 1s 12ms/step - loss: 0.4769 - acc: 0.8233 - val_loss: 0.8245 - val_acc: 0.7029\n",
      "Epoch 42/550\n",
      "115/115 [==============================] - 1s 13ms/step - loss: 0.4886 - acc: 0.8132 - val_loss: 0.8288 - val_acc: 0.7073\n",
      "Epoch 43/550\n",
      "115/115 [==============================] - 1s 13ms/step - loss: 0.4511 - acc: 0.8358 - val_loss: 0.8501 - val_acc: 0.7010\n",
      "Epoch 44/550\n",
      "115/115 [==============================] - 1s 13ms/step - loss: 0.4546 - acc: 0.8380 - val_loss: 0.8297 - val_acc: 0.7054\n",
      "Epoch 45/550\n",
      "115/115 [==============================] - 1s 12ms/step - loss: 0.4373 - acc: 0.8328 - val_loss: 0.8500 - val_acc: 0.7105\n"
     ]
    },
    {
     "name": "stderr",
     "output_type": "stream",
     "text": [
      "2023-05-16 22:07:45.732154: I tensorflow/core/common_runtime/executor.cc:1197] [/device:CPU:0] (DEBUG INFO) Executor start aborting (this does not indicate an error and you can ignore this message): INVALID_ARGUMENT: You must feed a value for placeholder tensor 'inputs' with dtype float and shape [?,51,4,64]\n",
      "\t [[{{node inputs}}]]\n",
      "2023-05-16 22:07:45.745121: I tensorflow/core/common_runtime/executor.cc:1197] [/device:CPU:0] (DEBUG INFO) Executor start aborting (this does not indicate an error and you can ignore this message): INVALID_ARGUMENT: You must feed a value for placeholder tensor 'inputs' with dtype float and shape [?,25,1,64]\n",
      "\t [[{{node inputs}}]]\n",
      "2023-05-16 22:07:46.206991: I tensorflow/core/common_runtime/executor.cc:1197] [/device:CPU:0] (DEBUG INFO) Executor start aborting (this does not indicate an error and you can ignore this message): INVALID_ARGUMENT: You must feed a value for placeholder tensor 'inputs' with dtype float and shape [?,51,4,64]\n",
      "\t [[{{node inputs}}]]\n",
      "2023-05-16 22:07:46.240386: I tensorflow/core/common_runtime/executor.cc:1197] [/device:CPU:0] (DEBUG INFO) Executor start aborting (this does not indicate an error and you can ignore this message): INVALID_ARGUMENT: You must feed a value for placeholder tensor 'inputs' with dtype float and shape [?,25,1,64]\n",
      "\t [[{{node inputs}}]]\n",
      "WARNING:absl:Found untraced functions such as _jit_compiled_convolution_op, _jit_compiled_convolution_op, _jit_compiled_convolution_op, _jit_compiled_convolution_op while saving (showing 4 of 4). These functions will not be directly callable after loading.\n"
     ]
    },
    {
     "name": "stdout",
     "output_type": "stream",
     "text": [
      "INFO:tensorflow:Assets written to: ./Models/MFCC 10secs Model/assets\n"
     ]
    },
    {
     "name": "stderr",
     "output_type": "stream",
     "text": [
      "INFO:tensorflow:Assets written to: ./Models/MFCC 10secs Model/assets\n"
     ]
    }
   ],
   "source": [
    "#COMPILATION\n",
    "history = model.fit(Xtrain, ytrain,\n",
    "                   validation_data = (Xval, yval),\n",
    "                   epochs = 550,\n",
    "                   batch_size = 64,\n",
    "                   callbacks=[tensorboard_callback])\n",
    "\n",
    "model.save(\"./Models/\"+NAME)"
   ]
  },
  {
   "cell_type": "code",
   "execution_count": 14,
   "id": "583f1878",
   "metadata": {},
   "outputs": [
    {
     "data": {
      "image/png": "[encoded data removed]",
      "text/plain": [
       "<Figure size 640x480 with 1 Axes>"
      ]
     },
     "metadata": {},
     "output_type": "display_data"
    },
    {
     "data": {
      "image/png": "[encoded data removed]",
      "text/plain": [
       "<Figure size 640x480 with 1 Axes>"
      ]
     },
     "metadata": {},
     "output_type": "display_data"
    }
   ],
   "source": [
    "#Plot Performance\n",
    "plot_performance(history)"
   ]
  },
  {
   "cell_type": "code",
   "execution_count": 15,
   "id": "721d80f2",
   "metadata": {},
   "outputs": [
    {
     "name": "stdout",
     "output_type": "stream",
     "text": [
      "49/49 [==============================] - 0s 2ms/step\n"
     ]
    }
   ],
   "source": [
    "y_pred = model.predict(Xtest)"
   ]
  },
  {
   "cell_type": "code",
   "execution_count": 16,
   "id": "735ff665",
   "metadata": {
    "scrolled": true
   },
   "outputs": [
    {
     "name": "stdout",
     "output_type": "stream",
     "text": [
      "Test accuracy: 0.7016\n"
     ]
    }
   ],
   "source": [
    "from sklearn.metrics import accuracy_score\n",
    "\n",
    "y_pred_classes = np.argmax(y_pred, axis=1)\n",
    "\n",
    "# Calculate the accuracy\n",
    "accuracy = accuracy_score(ytest, y_pred_classes)\n",
    "print(f\"Test accuracy: {accuracy:.4f}\")"
   ]
  },
  {
   "cell_type": "code",
   "execution_count": 19,
   "id": "9d088b82",
   "metadata": {},
   "outputs": [],
   "source": [
    "from sklearn.metrics import f1_score"
   ]
  },
  {
   "cell_type": "code",
   "execution_count": 22,
   "id": "c53b2972",
   "metadata": {},
   "outputs": [
    {
     "name": "stdout",
     "output_type": "stream",
     "text": [
      "49/49 [==============================] - 0s 2ms/step\n",
      "Test F1 score:  0.7015974440894569\n"
     ]
    }
   ],
   "source": [
    "# Make predictions on the test set\n",
    "y_pred_test = model.predict(Xtest)\n",
    "\n",
    "# Convert probabilities to class labels\n",
    "y_pred_test_labels = np.argmax(y_pred_test, axis=1)\n",
    "\n",
    "# Compute the F1 score\n",
    "f1_test = f1_score(ytest, y_pred_test_labels, average='micro')\n",
    "\n",
    "print('Test F1 score: ', f1_test)"
   ]
  }
 ],
 "metadata": {
  "kernelspec": {
   "display_name": "Python 3 (ipykernel)",
   "language": "python",
   "name": "python3"
  },
  "language_info": {
   "codemirror_mode": {
    "name": "ipython",
    "version": 3
   },
   "file_extension": ".py",
   "mimetype": "text/x-python",
   "name": "python",
   "nbconvert_exporter": "python",
   "pygments_lexer": "ipython3",
   "version": "3.8.10"
  }
 },
 "nbformat": 4,
 "nbformat_minor": 5
}
