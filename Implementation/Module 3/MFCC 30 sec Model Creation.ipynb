{
 "cells": [
  {
   "cell_type": "code",
   "execution_count": 1,
   "id": "ae1179b4",
   "metadata": {},
   "outputs": [
    {
     "name": "stderr",
     "output_type": "stream",
     "text": [
      "2023-05-16 23:00:33.497275: I tensorflow/core/platform/cpu_feature_guard.cc:182] This TensorFlow binary is optimized to use available CPU instructions in performance-critical operations.\n",
      "To enable the following instructions: AVX2 FMA, in other operations, rebuild TensorFlow with the appropriate compiler flags.\n"
     ]
    }
   ],
   "source": [
    "import os\n",
    "import json\n",
    "import csv\n",
    "import sys\n",
    "import numpy as np\n",
    "import matplotlib.pyplot as plt\n",
    "import librosa\n",
    "import tensorflow as tf\n",
    "from sklearn.model_selection import train_test_split, StratifiedShuffleSplit\n",
    "from tensorflow.keras.utils import plot_model\n",
    "import datetime\n",
    "import time\n",
    "from tensorflow.keras.callbacks import TensorBoard"
   ]
  },
  {
   "cell_type": "code",
   "execution_count": 2,
   "id": "b70b38c7",
   "metadata": {},
   "outputs": [
    {
     "data": {
      "text/plain": [
       "131072"
      ]
     },
     "execution_count": 2,
     "metadata": {},
     "output_type": "execute_result"
    }
   ],
   "source": [
    "csv_path = \"csv_fma_30secs_data.csv\"\n",
    "sr=22050\n",
    "csv.field_size_limit(sys.maxsize)"
   ]
  },
  {
   "cell_type": "code",
   "execution_count": 3,
   "id": "88b67eb9",
   "metadata": {},
   "outputs": [],
   "source": [
    "#Read MFCC data from CSV\n",
    "def csv_read_data(csv_path):\n",
    "    # Load data from CSV file\n",
    "    with open(csv_path, 'r') as csvfile:\n",
    "        reader = csv.reader(csvfile)\n",
    "\n",
    "        # Skip the header row\n",
    "        next(reader)\n",
    "\n",
    "        # Initialize lists to hold genre and MFCC data\n",
    "        genres = []\n",
    "        mfcc = []\n",
    "\n",
    "        # Iterate over each row of the CSV file\n",
    "        for row in reader:\n",
    "            # Extract genre and MFCC data from the row\n",
    "            genre = int(row[0])\n",
    "            mfcc_data = json.loads(row[1])\n",
    "\n",
    "            # Append genre and MFCC data to lists\n",
    "            genres.append(genre)\n",
    "            mfcc.append(mfcc_data)\n",
    "\n",
    "    # Convert lists to numpy arrays\n",
    "    X = np.array(mfcc)\n",
    "    y = np.array(genres)\n",
    "\n",
    "    return X, y"
   ]
  },
  {
   "cell_type": "code",
   "execution_count": 4,
   "id": "380da5df",
   "metadata": {},
   "outputs": [],
   "source": [
    "def stratified_split_dataset(inputs, targets, test_split_size, val_split_size):\n",
    "    sss = StratifiedShuffleSplit(n_splits=1, test_size=test_split_size, random_state=42)\n",
    "    \n",
    "    train_val_indices, test_indices = next(sss.split(inputs, targets))\n",
    "    inputs_train_val, targets_train_val = inputs[train_val_indices], targets[train_val_indices]\n",
    "    \n",
    "    val_size = val_split_size / (1 - test_split_size)\n",
    "    sss_train = StratifiedShuffleSplit(n_splits=1, test_size=val_size, random_state=43)\n",
    "    train_indices, val_indices = next(sss_train.split(inputs_train_val, targets_train_val))\n",
    "    \n",
    "    inputs_train, targets_train = inputs_train_val[train_indices], targets_train_val[train_indices]\n",
    "    inputs_val, targets_val = inputs_train_val[val_indices], targets_train_val[val_indices]\n",
    "    inputs_test, targets_test = inputs[test_indices], targets[test_indices]\n",
    "    \n",
    "    # Needed for compatibility reasons\n",
    "    inputs_train = inputs_train[..., np.newaxis]\n",
    "    inputs_val = inputs_val[..., np.newaxis]\n",
    "    inputs_test=  inputs_test[..., np.newaxis]\n",
    "    \n",
    "    return inputs_train, inputs_val, inputs_test, targets_train, targets_val, targets_test\n"
   ]
  },
  {
   "cell_type": "code",
   "execution_count": 5,
   "id": "a43b97a7",
   "metadata": {},
   "outputs": [],
   "source": [
    "#Used to plot performance history of model\n",
    "def plot_performance(hist):\n",
    "    \n",
    "    acc = hist.history['acc']\n",
    "    val_acc = hist.history['val_acc']\n",
    "    loss = hist.history['loss']\n",
    "    val_loss = hist.history['val_loss']\n",
    "\n",
    "    epochs = range(len(acc))\n",
    "\n",
    "    plt.plot(epochs, acc, 'r', label='Training accuracy')\n",
    "    plt.plot(epochs, val_acc, 'b', label='Validation accuracy')\n",
    "    plt.title('Training and validation accuracy')\n",
    "    plt.legend()\n",
    "    plt.figure()\n",
    "\n",
    "    plt.plot(epochs, loss, 'r', label='Training Loss')\n",
    "    plt.plot(epochs, val_loss, 'b', label='Validation Loss')\n",
    "    plt.title('Training and validation loss')\n",
    "    plt.legend()\n",
    "\n",
    "    plt.show()"
   ]
  },
  {
   "cell_type": "code",
   "execution_count": 6,
   "id": "75a5b1f9",
   "metadata": {},
   "outputs": [],
   "source": [
    "#=============== MAIN ===============\n",
    "#Reading MFCC data from CSV\n",
    "inputs, targets = csv_read_data(csv_path)"
   ]
  },
  {
   "cell_type": "code",
   "execution_count": 7,
   "id": "c6aab7dd",
   "metadata": {},
   "outputs": [],
   "source": [
    "#Splitting data\n",
    "Xtrain, Xval, Xtest, ytrain, yval, ytest =stratified_split_dataset(inputs, targets, 0.15, 0.15)\n"
   ]
  },
  {
   "cell_type": "code",
   "execution_count": 8,
   "id": "a7bc7825",
   "metadata": {},
   "outputs": [
    {
     "name": "stdout",
     "output_type": "stream",
     "text": [
      "(2433, 1249, 40, 1)\n",
      "(522, 1249, 40, 1)\n",
      "(522, 1249, 40, 1)\n"
     ]
    }
   ],
   "source": [
    "print(Xtrain.shape)\n",
    "print(Xtest.shape)\n",
    "print(Xval.shape)"
   ]
  },
  {
   "cell_type": "code",
   "execution_count": 9,
   "id": "8f53b3e6",
   "metadata": {},
   "outputs": [],
   "source": [
    "#Design the model\n",
    "def design_model(input_shape):\n",
    "    \n",
    "    model = tf.keras.models.Sequential([\n",
    "        \n",
    "        tf.keras.layers.Conv2D(64, (3,3), activation='relu', input_shape=input_shape),\n",
    "        tf.keras.layers.MaxPooling2D((3,3), strides=(2,2), padding='same'),\n",
    "        tf.keras.layers.BatchNormalization(),\n",
    "        \n",
    "        tf.keras.layers.Conv2D(64, (3,3), activation='relu'),\n",
    "        tf.keras.layers.MaxPooling2D((3,3), strides=(2,2), padding='same'),\n",
    "        tf.keras.layers.BatchNormalization(),\n",
    "        \n",
    "        tf.keras.layers.Conv2D(64, (3,3), activation='relu'),\n",
    "        tf.keras.layers.MaxPooling2D((3,3), strides=(2,2), padding='same'),\n",
    "        tf.keras.layers.BatchNormalization(),\n",
    "        tf.keras.layers.Dropout(0.3),\n",
    "        \n",
    "        tf.keras.layers.Conv2D(64, (3,3), activation='relu'),\n",
    "        tf.keras.layers.MaxPooling2D((3,3), strides=(2,2), padding='same'),\n",
    "        tf.keras.layers.Dropout(0.3),\n",
    "        \n",
    "        tf.keras.layers.Flatten(),\n",
    "        tf.keras.layers.Dense(64, activation='relu'), \n",
    "        tf.keras.layers.Dense(len(np.unique(targets)), activation='softmax')\n",
    "    ])\n",
    "    \n",
    "    return model"
   ]
  },
  {
   "cell_type": "code",
   "execution_count": 10,
   "id": "cea1a142",
   "metadata": {},
   "outputs": [
    {
     "name": "stderr",
     "output_type": "stream",
     "text": [
      "2023-05-16 23:02:25.675466: I tensorflow/core/common_runtime/gpu/gpu_device.cc:1635] Created device /job:localhost/replica:0/task:0/device:GPU:0 with 22077 MB memory:  -> device: 0, name: NVIDIA GeForce RTX 4090, pci bus id: 0000:c1:00.0, compute capability: 8.9\n"
     ]
    }
   ],
   "source": [
    "#Model Creation\n",
    "input_shape = (Xtrain.shape[1], Xtrain.shape[2], 1)\n",
    "model = design_model(input_shape)\n",
    "\n",
    "model.compile(optimizer = tf.keras.optimizers.Adam(learning_rate=0.0001),\n",
    "             loss = 'sparse_categorical_crossentropy',\n",
    "             metrics = ['acc'])"
   ]
  },
  {
   "cell_type": "code",
   "execution_count": 11,
   "id": "023c665c",
   "metadata": {},
   "outputs": [
    {
     "name": "stdout",
     "output_type": "stream",
     "text": [
      "Model: \"sequential\"\n",
      "_________________________________________________________________\n",
      " Layer (type)                Output Shape              Param #   \n",
      "=================================================================\n",
      " conv2d (Conv2D)             (None, 1247, 38, 64)      640       \n",
      "                                                                 \n",
      " max_pooling2d (MaxPooling2D  (None, 624, 19, 64)      0         \n",
      " )                                                               \n",
      "                                                                 \n",
      " batch_normalization (BatchN  (None, 624, 19, 64)      256       \n",
      " ormalization)                                                   \n",
      "                                                                 \n",
      " conv2d_1 (Conv2D)           (None, 622, 17, 64)       36928     \n",
      "                                                                 \n",
      " max_pooling2d_1 (MaxPooling  (None, 311, 9, 64)       0         \n",
      " 2D)                                                             \n",
      "                                                                 \n",
      " batch_normalization_1 (Batc  (None, 311, 9, 64)       256       \n",
      " hNormalization)                                                 \n",
      "                                                                 \n",
      " conv2d_2 (Conv2D)           (None, 309, 7, 64)        36928     \n",
      "                                                                 \n",
      " max_pooling2d_2 (MaxPooling  (None, 155, 4, 64)       0         \n",
      " 2D)                                                             \n",
      "                                                                 \n",
      " batch_normalization_2 (Batc  (None, 155, 4, 64)       256       \n",
      " hNormalization)                                                 \n",
      "                                                                 \n",
      " dropout (Dropout)           (None, 155, 4, 64)        0         \n",
      "                                                                 \n",
      " conv2d_3 (Conv2D)           (None, 153, 2, 64)        36928     \n",
      "                                                                 \n",
      " max_pooling2d_3 (MaxPooling  (None, 77, 1, 64)        0         \n",
      " 2D)                                                             \n",
      "                                                                 \n",
      " dropout_1 (Dropout)         (None, 77, 1, 64)         0         \n",
      "                                                                 \n",
      " flatten (Flatten)           (None, 4928)              0         \n",
      "                                                                 \n",
      " dense (Dense)               (None, 64)                315456    \n",
      "                                                                 \n",
      " dense_1 (Dense)             (None, 6)                 390       \n",
      "                                                                 \n",
      "=================================================================\n",
      "Total params: 428,038\n",
      "Trainable params: 427,654\n",
      "Non-trainable params: 384\n",
      "_________________________________________________________________\n"
     ]
    }
   ],
   "source": [
    "#Model Summary\n",
    "model.summary()"
   ]
  },
  {
   "cell_type": "code",
   "execution_count": 12,
   "id": "09ddd289",
   "metadata": {},
   "outputs": [],
   "source": [
    "#TENSORBOARD\n",
    "NAME= \"MFCC 30secs Model\"\n",
    "log_dir = \"logs/fit/\" + NAME\n",
    "tensorboard_callback = [tf.keras.callbacks.TensorBoard(log_dir=log_dir, histogram_freq=1),tf.keras.callbacks.EarlyStopping(patience=5, restore_best_weights=True)] \n"
   ]
  },
  {
   "cell_type": "code",
   "execution_count": 13,
   "id": "60f6e3e0",
   "metadata": {},
   "outputs": [
    {
     "name": "stdout",
     "output_type": "stream",
     "text": [
      "Epoch 1/550\n"
     ]
    },
    {
     "name": "stderr",
     "output_type": "stream",
     "text": [
      "2023-05-16 23:02:27.348042: E tensorflow/core/grappler/optimizers/meta_optimizer.cc:954] layout failed: INVALID_ARGUMENT: Size of values 0 does not match size of permutation 4 @ fanin shape insequential/dropout/dropout/SelectV2-2-TransposeNHWCToNCHW-LayoutOptimizer\n",
      "2023-05-16 23:02:28.246597: I tensorflow/compiler/xla/stream_executor/cuda/cuda_dnn.cc:424] Loaded cuDNN version 8600\n",
      "2023-05-16 23:02:28.922474: I tensorflow/compiler/xla/stream_executor/cuda/cuda_blas.cc:637] TensorFloat-32 will be used for the matrix multiplication. This will only be logged once.\n",
      "2023-05-16 23:02:28.924208: I tensorflow/compiler/xla/service/service.cc:169] XLA service 0x7fe332cdc190 initialized for platform CUDA (this does not guarantee that XLA will be used). Devices:\n",
      "2023-05-16 23:02:28.924226: I tensorflow/compiler/xla/service/service.cc:177]   StreamExecutor device (0): NVIDIA GeForce RTX 4090, Compute Capability 8.9\n",
      "2023-05-16 23:02:28.927888: I tensorflow/compiler/mlir/tensorflow/utils/dump_mlir_util.cc:269] disabling MLIR crash reproducer, set env var `MLIR_CRASH_REPRODUCER_DIRECTORY` to enable.\n",
      "2023-05-16 23:02:29.052215: I ./tensorflow/compiler/jit/device_compiler.h:180] Compiled cluster using XLA!  This line is logged at most once for the lifetime of the process.\n"
     ]
    },
    {
     "name": "stdout",
     "output_type": "stream",
     "text": [
      "39/39 [==============================] - 7s 46ms/step - loss: 1.8906 - acc: 0.3395 - val_loss: 1.7979 - val_acc: 0.3027\n",
      "Epoch 2/550\n",
      "39/39 [==============================] - 1s 33ms/step - loss: 1.3959 - acc: 0.4842 - val_loss: 1.5364 - val_acc: 0.4176\n",
      "Epoch 3/550\n",
      "39/39 [==============================] - 1s 33ms/step - loss: 1.2586 - acc: 0.5356 - val_loss: 1.3962 - val_acc: 0.4617\n",
      "Epoch 4/550\n",
      "39/39 [==============================] - 1s 33ms/step - loss: 1.1644 - acc: 0.5635 - val_loss: 1.2173 - val_acc: 0.5709\n",
      "Epoch 5/550\n",
      "39/39 [==============================] - 1s 33ms/step - loss: 1.1470 - acc: 0.5738 - val_loss: 1.1724 - val_acc: 0.5881\n",
      "Epoch 6/550\n",
      "39/39 [==============================] - 1s 33ms/step - loss: 1.1050 - acc: 0.5968 - val_loss: 1.0998 - val_acc: 0.6092\n",
      "Epoch 7/550\n",
      "39/39 [==============================] - 1s 33ms/step - loss: 1.0679 - acc: 0.6132 - val_loss: 1.0954 - val_acc: 0.6015\n",
      "Epoch 8/550\n",
      "39/39 [==============================] - 1s 33ms/step - loss: 1.0535 - acc: 0.6091 - val_loss: 1.0663 - val_acc: 0.6226\n",
      "Epoch 9/550\n",
      "39/39 [==============================] - 1s 33ms/step - loss: 1.0321 - acc: 0.6178 - val_loss: 1.0680 - val_acc: 0.6054\n",
      "Epoch 10/550\n",
      "39/39 [==============================] - 1s 33ms/step - loss: 1.0004 - acc: 0.6190 - val_loss: 1.0417 - val_acc: 0.6284\n",
      "Epoch 11/550\n",
      "39/39 [==============================] - 1s 33ms/step - loss: 0.9919 - acc: 0.6321 - val_loss: 1.0856 - val_acc: 0.6188\n",
      "Epoch 12/550\n",
      "39/39 [==============================] - 1s 33ms/step - loss: 0.9803 - acc: 0.6284 - val_loss: 1.0263 - val_acc: 0.6437\n",
      "Epoch 13/550\n",
      "39/39 [==============================] - 1s 33ms/step - loss: 0.9657 - acc: 0.6531 - val_loss: 1.0285 - val_acc: 0.6379\n",
      "Epoch 14/550\n",
      "39/39 [==============================] - 1s 33ms/step - loss: 0.9403 - acc: 0.6531 - val_loss: 1.0208 - val_acc: 0.6226\n",
      "Epoch 15/550\n",
      "39/39 [==============================] - 1s 33ms/step - loss: 0.9115 - acc: 0.6700 - val_loss: 1.0041 - val_acc: 0.6437\n",
      "Epoch 16/550\n",
      "39/39 [==============================] - 1s 33ms/step - loss: 0.9141 - acc: 0.6626 - val_loss: 1.0429 - val_acc: 0.6245\n",
      "Epoch 17/550\n",
      "39/39 [==============================] - 1s 33ms/step - loss: 0.9107 - acc: 0.6601 - val_loss: 1.0137 - val_acc: 0.6322\n",
      "Epoch 18/550\n",
      "39/39 [==============================] - 1s 33ms/step - loss: 0.8967 - acc: 0.6691 - val_loss: 0.9925 - val_acc: 0.6284\n",
      "Epoch 19/550\n",
      "39/39 [==============================] - 1s 33ms/step - loss: 0.8646 - acc: 0.6802 - val_loss: 1.0648 - val_acc: 0.6111\n",
      "Epoch 20/550\n",
      "39/39 [==============================] - 1s 33ms/step - loss: 0.8808 - acc: 0.6741 - val_loss: 1.0308 - val_acc: 0.6379\n",
      "Epoch 21/550\n",
      "39/39 [==============================] - 1s 32ms/step - loss: 0.8361 - acc: 0.6893 - val_loss: 1.0159 - val_acc: 0.6437\n",
      "Epoch 22/550\n",
      "39/39 [==============================] - 1s 33ms/step - loss: 0.8575 - acc: 0.6819 - val_loss: 0.9919 - val_acc: 0.6398\n",
      "Epoch 23/550\n",
      "39/39 [==============================] - 1s 33ms/step - loss: 0.8682 - acc: 0.6880 - val_loss: 1.0101 - val_acc: 0.6341\n",
      "Epoch 24/550\n",
      "39/39 [==============================] - 1s 33ms/step - loss: 0.8406 - acc: 0.6917 - val_loss: 1.0009 - val_acc: 0.6437\n",
      "Epoch 25/550\n",
      "39/39 [==============================] - 1s 33ms/step - loss: 0.8259 - acc: 0.7016 - val_loss: 0.9704 - val_acc: 0.6456\n",
      "Epoch 26/550\n",
      "39/39 [==============================] - 1s 33ms/step - loss: 0.8158 - acc: 0.6963 - val_loss: 1.0073 - val_acc: 0.6360\n",
      "Epoch 27/550\n",
      "39/39 [==============================] - 1s 33ms/step - loss: 0.7974 - acc: 0.7012 - val_loss: 0.9747 - val_acc: 0.6590\n",
      "Epoch 28/550\n",
      "39/39 [==============================] - 1s 33ms/step - loss: 0.8058 - acc: 0.7008 - val_loss: 0.9884 - val_acc: 0.6628\n",
      "Epoch 29/550\n",
      "39/39 [==============================] - 1s 33ms/step - loss: 0.7388 - acc: 0.7205 - val_loss: 0.9965 - val_acc: 0.6303\n",
      "Epoch 30/550\n",
      "39/39 [==============================] - 1s 33ms/step - loss: 0.7739 - acc: 0.7193 - val_loss: 1.0055 - val_acc: 0.6322\n"
     ]
    },
    {
     "name": "stderr",
     "output_type": "stream",
     "text": [
      "2023-05-16 23:03:10.719986: I tensorflow/core/common_runtime/executor.cc:1197] [/device:CPU:0] (DEBUG INFO) Executor start aborting (this does not indicate an error and you can ignore this message): INVALID_ARGUMENT: You must feed a value for placeholder tensor 'inputs' with dtype float and shape [?,155,4,64]\n",
      "\t [[{{node inputs}}]]\n",
      "2023-05-16 23:03:10.732046: I tensorflow/core/common_runtime/executor.cc:1197] [/device:CPU:0] (DEBUG INFO) Executor start aborting (this does not indicate an error and you can ignore this message): INVALID_ARGUMENT: You must feed a value for placeholder tensor 'inputs' with dtype float and shape [?,77,1,64]\n",
      "\t [[{{node inputs}}]]\n",
      "2023-05-16 23:03:11.179190: I tensorflow/core/common_runtime/executor.cc:1197] [/device:CPU:0] (DEBUG INFO) Executor start aborting (this does not indicate an error and you can ignore this message): INVALID_ARGUMENT: You must feed a value for placeholder tensor 'inputs' with dtype float and shape [?,155,4,64]\n",
      "\t [[{{node inputs}}]]\n",
      "2023-05-16 23:03:11.212960: I tensorflow/core/common_runtime/executor.cc:1197] [/device:CPU:0] (DEBUG INFO) Executor start aborting (this does not indicate an error and you can ignore this message): INVALID_ARGUMENT: You must feed a value for placeholder tensor 'inputs' with dtype float and shape [?,77,1,64]\n",
      "\t [[{{node inputs}}]]\n",
      "WARNING:absl:Found untraced functions such as _jit_compiled_convolution_op, _jit_compiled_convolution_op, _jit_compiled_convolution_op, _jit_compiled_convolution_op while saving (showing 4 of 4). These functions will not be directly callable after loading.\n"
     ]
    },
    {
     "name": "stdout",
     "output_type": "stream",
     "text": [
      "INFO:tensorflow:Assets written to: ./Models/MFCC 30secs Model/assets\n"
     ]
    },
    {
     "name": "stderr",
     "output_type": "stream",
     "text": [
      "INFO:tensorflow:Assets written to: ./Models/MFCC 30secs Model/assets\n"
     ]
    }
   ],
   "source": [
    "#COMPILATION\n",
    "history = model.fit(Xtrain, ytrain,\n",
    "                   validation_data = (Xval, yval),\n",
    "                   epochs = 550,\n",
    "                   batch_size = 64,\n",
    "                   callbacks=[tensorboard_callback])\n",
    "\n",
    "model.save(\"./Models/\"+NAME)"
   ]
  },
  {
   "cell_type": "code",
   "execution_count": 14,
   "id": "583f1878",
   "metadata": {},
   "outputs": [
    {
     "data": {
      "image/png": "[encoded data removed]",
      "text/plain": [
       "<Figure size 640x480 with 1 Axes>"
      ]
     },
     "metadata": {},
     "output_type": "display_data"
    },
    {
     "data": {
      "image/png": "[encoded data removed]",
      "text/plain": [
       "<Figure size 640x480 with 1 Axes>"
      ]
     },
     "metadata": {},
     "output_type": "display_data"
    }
   ],
   "source": [
    "#Plot Performance\n",
    "plot_performance(history)"
   ]
  },
  {
   "cell_type": "code",
   "execution_count": 15,
   "id": "721d80f2",
   "metadata": {},
   "outputs": [
    {
     "name": "stdout",
     "output_type": "stream",
     "text": [
      "17/17 [==============================] - 0s 5ms/step\n"
     ]
    }
   ],
   "source": [
    "y_pred = model.predict(Xtest)"
   ]
  },
  {
   "cell_type": "code",
   "execution_count": 16,
   "id": "735ff665",
   "metadata": {
    "scrolled": true
   },
   "outputs": [
    {
     "name": "stdout",
     "output_type": "stream",
     "text": [
      "Test accuracy: 0.6494\n"
     ]
    }
   ],
   "source": [
    "from sklearn.metrics import accuracy_score\n",
    "\n",
    "y_pred_classes = np.argmax(y_pred, axis=1)\n",
    "\n",
    "# Calculate the accuracy\n",
    "accuracy = accuracy_score(ytest, y_pred_classes)\n",
    "print(f\"Test accuracy: {accuracy:.4f}\")"
   ]
  },
  {
   "cell_type": "code",
   "execution_count": 17,
   "id": "9d11bcb8",
   "metadata": {},
   "outputs": [
    {
     "name": "stdout",
     "output_type": "stream",
     "text": [
      "17/17 [==============================] - 0s 5ms/step\n",
      "Test F1 score:  0.6494252873563219\n"
     ]
    }
   ],
   "source": [
    "from sklearn.metrics import f1_score\n",
    "\n",
    "# Make predictions on the test set\n",
    "y_pred_test = model.predict(Xtest)\n",
    "\n",
    "# Convert probabilities to class labels\n",
    "y_pred_test_labels = np.argmax(y_pred_test, axis=1)\n",
    "\n",
    "# Compute the F1 score\n",
    "f1_test = f1_score(ytest, y_pred_test_labels, average='micro')\n",
    "\n",
    "print('Test F1 score: ', f1_test)"
   ]
  }
 ],
 "metadata": {
  "kernelspec": {
   "display_name": "Python 3 (ipykernel)",
   "language": "python",
   "name": "python3"
  },
  "language_info": {
   "codemirror_mode": {
    "name": "ipython",
    "version": 3
   },
   "file_extension": ".py",
   "mimetype": "text/x-python",
   "name": "python",
   "nbconvert_exporter": "python",
   "pygments_lexer": "ipython3",
   "version": "3.8.10"
  }
 },
 "nbformat": 4,
 "nbformat_minor": 5
}
