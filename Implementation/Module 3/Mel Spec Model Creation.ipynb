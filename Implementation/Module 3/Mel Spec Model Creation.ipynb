{
 "cells": [
  {
   "cell_type": "code",
   "execution_count": 1,
   "id": "ae1179b4",
   "metadata": {},
   "outputs": [
    {
     "name": "stderr",
     "output_type": "stream",
     "text": [
      "2023-05-09 23:33:27.450247: I tensorflow/core/platform/cpu_feature_guard.cc:182] This TensorFlow binary is optimized to use available CPU instructions in performance-critical operations.\n",
      "To enable the following instructions: AVX2 FMA, in other operations, rebuild TensorFlow with the appropriate compiler flags.\n"
     ]
    }
   ],
   "source": [
    "import os\n",
    "import json\n",
    "import csv\n",
    "import sys\n",
    "import numpy as np\n",
    "import matplotlib.pyplot as plt\n",
    "import librosa\n",
    "import tensorflow as tf\n",
    "from sklearn.model_selection import train_test_split, StratifiedShuffleSplit\n",
    "from tensorflow.keras.utils import plot_model\n",
    "import datetime\n",
    "import time\n",
    "from tensorflow.keras.callbacks import TensorBoard"
   ]
  },
  {
   "cell_type": "code",
   "execution_count": 2,
   "id": "b70b38c7",
   "metadata": {},
   "outputs": [
    {
     "data": {
      "text/plain": [
       "131072"
      ]
     },
     "execution_count": 2,
     "metadata": {},
     "output_type": "execute_result"
    }
   ],
   "source": [
    "csv_path = \"melspec_fma.csv\"\n",
    "sr=22050\n",
    "csv.field_size_limit(sys.maxsize)"
   ]
  },
  {
   "cell_type": "code",
   "execution_count": 6,
   "id": "88b67eb9",
   "metadata": {},
   "outputs": [],
   "source": [
    "#Read Mel Spec data from CSV\n",
    "def csv_read_data(csv_path):\n",
    "    # Load data from CSV file\n",
    "    with open(csv_path, 'r') as csvfile:\n",
    "        reader = csv.reader(csvfile)\n",
    "\n",
    "        # Skip the header row\n",
    "        next(reader)\n",
    "\n",
    "        # Initialize lists to hold genre and MFCC data\n",
    "        genres = []\n",
    "        melspec = []\n",
    "\n",
    "        # Iterate over each row of the CSV file\n",
    "        for row in reader:\n",
    "            # Extract genre and MFCC data from the row\n",
    "            genre = int(row[0])\n",
    "            melspec_data = json.loads(row[1])\n",
    "\n",
    "            # Append genre and MFCC data to lists\n",
    "            genres.append(genre)\n",
    "            melspec.append(melspec_data)\n",
    "\n",
    "    # Convert lists to numpy arrays\n",
    "    X = np.array(melspec)\n",
    "    y = np.array(genres)\n",
    "\n",
    "    return X, y"
   ]
  },
  {
   "cell_type": "code",
   "execution_count": 9,
   "id": "380da5df",
   "metadata": {},
   "outputs": [],
   "source": [
    "def stratified_split_dataset(inputs, targets, test_split_size, val_split_size):\n",
    "    sss = StratifiedShuffleSplit(n_splits=1, test_size=test_split_size, random_state=42)\n",
    "    \n",
    "    train_val_indices, test_indices = next(sss.split(inputs, targets))\n",
    "    inputs_train_val, targets_train_val = inputs[train_val_indices], targets[train_val_indices]\n",
    "    \n",
    "    val_size = val_split_size / (1 - test_split_size)\n",
    "    sss_train = StratifiedShuffleSplit(n_splits=1, test_size=val_size, random_state=43)\n",
    "    train_indices, val_indices = next(sss_train.split(inputs_train_val, targets_train_val))\n",
    "    \n",
    "    inputs_train, targets_train = inputs_train_val[train_indices], targets_train_val[train_indices]\n",
    "    inputs_val, targets_val = inputs_train_val[val_indices], targets_train_val[val_indices]\n",
    "    inputs_test, targets_test = inputs[test_indices], targets[test_indices]\n",
    "    \n",
    "    # Needed for compatibility reasons\n",
    "    inputs_train = inputs_train[..., np.newaxis]\n",
    "    inputs_val = inputs_val[..., np.newaxis]\n",
    "    inputs_test=  inputs_test[..., np.newaxis]\n",
    "    \n",
    "    return inputs_train, inputs_val, inputs_test, targets_train, targets_val, targets_test\n"
   ]
  },
  {
   "cell_type": "code",
   "execution_count": 10,
   "id": "a43b97a7",
   "metadata": {},
   "outputs": [],
   "source": [
    "#Used to plot performance history of model\n",
    "def plot_performance(hist):\n",
    "    \n",
    "    acc = hist.history['acc']\n",
    "    val_acc = hist.history['val_acc']\n",
    "    loss = hist.history['loss']\n",
    "    val_loss = hist.history['val_loss']\n",
    "\n",
    "    epochs = range(len(acc))\n",
    "\n",
    "    plt.plot(epochs, acc, 'r', label='Training accuracy')\n",
    "    plt.plot(epochs, val_acc, 'b', label='Validation accuracy')\n",
    "    plt.title('Training and validation accuracy')\n",
    "    plt.legend()\n",
    "    plt.figure()\n",
    "\n",
    "    plt.plot(epochs, loss, 'r', label='Training Loss')\n",
    "    plt.plot(epochs, val_loss, 'b', label='Validation Loss')\n",
    "    plt.title('Training and validation loss')\n",
    "    plt.legend()\n",
    "\n",
    "    plt.show()"
   ]
  },
  {
   "cell_type": "code",
   "execution_count": 12,
   "id": "75a5b1f9",
   "metadata": {},
   "outputs": [],
   "source": [
    "#=============== MAIN ===============\n",
    "#Reading MFCC data from CSV\n",
    "inputs, targets = csv_read_data(csv_path)"
   ]
  },
  {
   "cell_type": "code",
   "execution_count": 13,
   "id": "c6aab7dd",
   "metadata": {},
   "outputs": [],
   "source": [
    "#Splitting data\n",
    "Xtrain, Xval, Xtest, ytrain, yval, ytest =stratified_split_dataset(inputs, targets, 0.15, 0.15)\n"
   ]
  },
  {
   "cell_type": "code",
   "execution_count": 14,
   "id": "a7bc7825",
   "metadata": {},
   "outputs": [
    {
     "name": "stdout",
     "output_type": "stream",
     "text": [
      "(7301, 417, 40, 1)\n",
      "(1565, 417, 40, 1)\n",
      "(1565, 417, 40, 1)\n"
     ]
    }
   ],
   "source": [
    "print(Xtrain.shape)\n",
    "print(Xtest.shape)\n",
    "print(Xval.shape)"
   ]
  },
  {
   "cell_type": "code",
   "execution_count": 15,
   "id": "8f53b3e6",
   "metadata": {},
   "outputs": [],
   "source": [
    "#Design the model\n",
    "def design_model(input_shape):\n",
    "    \n",
    "    model = tf.keras.models.Sequential([\n",
    "        \n",
    "        tf.keras.layers.Conv2D(64, (3,3), activation='relu', input_shape=input_shape),\n",
    "        tf.keras.layers.MaxPooling2D((3,3), strides=(2,2), padding='same'),\n",
    "        tf.keras.layers.BatchNormalization(),\n",
    "        \n",
    "        tf.keras.layers.Conv2D(64, (3,3), activation='relu'),\n",
    "        tf.keras.layers.MaxPooling2D((3,3), strides=(2,2), padding='same'),\n",
    "        tf.keras.layers.BatchNormalization(),\n",
    "        \n",
    "        tf.keras.layers.Conv2D(64, (3,3), activation='relu'),\n",
    "        tf.keras.layers.MaxPooling2D((3,3), strides=(2,2), padding='same'),\n",
    "        tf.keras.layers.BatchNormalization(),\n",
    "        tf.keras.layers.Dropout(0.3),\n",
    "        \n",
    "        tf.keras.layers.Conv2D(64, (3,3), activation='relu'),\n",
    "        tf.keras.layers.MaxPooling2D((3,3), strides=(2,2), padding='same'),\n",
    "        tf.keras.layers.Dropout(0.3),\n",
    "        \n",
    "        tf.keras.layers.Flatten(),\n",
    "        tf.keras.layers.Dense(64, activation='relu'), \n",
    "        tf.keras.layers.Dense(len(np.unique(targets)), activation='softmax')\n",
    "    ])\n",
    "    \n",
    "    return model"
   ]
  },
  {
   "cell_type": "code",
   "execution_count": 16,
   "id": "cea1a142",
   "metadata": {},
   "outputs": [
    {
     "name": "stderr",
     "output_type": "stream",
     "text": [
      "2023-05-09 23:54:16.148726: I tensorflow/compiler/xla/stream_executor/cuda/cuda_gpu_executor.cc:996] successful NUMA node read from SysFS had negative value (-1), but there must be at least one NUMA node, so returning NUMA node zero. See more at https://github.com/torvalds/linux/blob/v6.0/Documentation/ABI/testing/sysfs-bus-pci#L344-L355\n",
      "2023-05-09 23:54:16.155115: I tensorflow/compiler/xla/stream_executor/cuda/cuda_gpu_executor.cc:996] successful NUMA node read from SysFS had negative value (-1), but there must be at least one NUMA node, so returning NUMA node zero. See more at https://github.com/torvalds/linux/blob/v6.0/Documentation/ABI/testing/sysfs-bus-pci#L344-L355\n",
      "2023-05-09 23:54:16.155566: I tensorflow/compiler/xla/stream_executor/cuda/cuda_gpu_executor.cc:996] successful NUMA node read from SysFS had negative value (-1), but there must be at least one NUMA node, so returning NUMA node zero. See more at https://github.com/torvalds/linux/blob/v6.0/Documentation/ABI/testing/sysfs-bus-pci#L344-L355\n",
      "2023-05-09 23:54:16.159026: I tensorflow/compiler/xla/stream_executor/cuda/cuda_gpu_executor.cc:996] successful NUMA node read from SysFS had negative value (-1), but there must be at least one NUMA node, so returning NUMA node zero. See more at https://github.com/torvalds/linux/blob/v6.0/Documentation/ABI/testing/sysfs-bus-pci#L344-L355\n",
      "2023-05-09 23:54:16.159456: I tensorflow/compiler/xla/stream_executor/cuda/cuda_gpu_executor.cc:996] successful NUMA node read from SysFS had negative value (-1), but there must be at least one NUMA node, so returning NUMA node zero. See more at https://github.com/torvalds/linux/blob/v6.0/Documentation/ABI/testing/sysfs-bus-pci#L344-L355\n",
      "2023-05-09 23:54:16.159847: I tensorflow/compiler/xla/stream_executor/cuda/cuda_gpu_executor.cc:996] successful NUMA node read from SysFS had negative value (-1), but there must be at least one NUMA node, so returning NUMA node zero. See more at https://github.com/torvalds/linux/blob/v6.0/Documentation/ABI/testing/sysfs-bus-pci#L344-L355\n",
      "2023-05-09 23:54:16.691589: I tensorflow/compiler/xla/stream_executor/cuda/cuda_gpu_executor.cc:996] successful NUMA node read from SysFS had negative value (-1), but there must be at least one NUMA node, so returning NUMA node zero. See more at https://github.com/torvalds/linux/blob/v6.0/Documentation/ABI/testing/sysfs-bus-pci#L344-L355\n",
      "2023-05-09 23:54:16.691931: I tensorflow/compiler/xla/stream_executor/cuda/cuda_gpu_executor.cc:996] successful NUMA node read from SysFS had negative value (-1), but there must be at least one NUMA node, so returning NUMA node zero. See more at https://github.com/torvalds/linux/blob/v6.0/Documentation/ABI/testing/sysfs-bus-pci#L344-L355\n",
      "2023-05-09 23:54:16.692209: I tensorflow/compiler/xla/stream_executor/cuda/cuda_gpu_executor.cc:996] successful NUMA node read from SysFS had negative value (-1), but there must be at least one NUMA node, so returning NUMA node zero. See more at https://github.com/torvalds/linux/blob/v6.0/Documentation/ABI/testing/sysfs-bus-pci#L344-L355\n",
      "2023-05-09 23:54:16.692498: I tensorflow/core/common_runtime/gpu/gpu_device.cc:1635] Created device /job:localhost/replica:0/task:0/device:GPU:0 with 22077 MB memory:  -> device: 0, name: NVIDIA GeForce RTX 4090, pci bus id: 0000:4c:00.0, compute capability: 8.9\n"
     ]
    }
   ],
   "source": [
    "#Model Creation\n",
    "input_shape = (Xtrain.shape[1], Xtrain.shape[2], 1)\n",
    "model = design_model(input_shape)\n",
    "\n",
    "model.compile(optimizer = tf.keras.optimizers.Adam(learning_rate=0.0001),\n",
    "             loss = 'sparse_categorical_crossentropy',\n",
    "             metrics = ['acc'])"
   ]
  },
  {
   "cell_type": "code",
   "execution_count": 17,
   "id": "023c665c",
   "metadata": {},
   "outputs": [
    {
     "name": "stdout",
     "output_type": "stream",
     "text": [
      "Model: \"sequential\"\n",
      "_________________________________________________________________\n",
      " Layer (type)                Output Shape              Param #   \n",
      "=================================================================\n",
      " conv2d (Conv2D)             (None, 415, 38, 64)       640       \n",
      "                                                                 \n",
      " max_pooling2d (MaxPooling2D  (None, 208, 19, 64)      0         \n",
      " )                                                               \n",
      "                                                                 \n",
      " batch_normalization (BatchN  (None, 208, 19, 64)      256       \n",
      " ormalization)                                                   \n",
      "                                                                 \n",
      " conv2d_1 (Conv2D)           (None, 206, 17, 64)       36928     \n",
      "                                                                 \n",
      " max_pooling2d_1 (MaxPooling  (None, 103, 9, 64)       0         \n",
      " 2D)                                                             \n",
      "                                                                 \n",
      " batch_normalization_1 (Batc  (None, 103, 9, 64)       256       \n",
      " hNormalization)                                                 \n",
      "                                                                 \n",
      " conv2d_2 (Conv2D)           (None, 101, 7, 64)        36928     \n",
      "                                                                 \n",
      " max_pooling2d_2 (MaxPooling  (None, 51, 4, 64)        0         \n",
      " 2D)                                                             \n",
      "                                                                 \n",
      " batch_normalization_2 (Batc  (None, 51, 4, 64)        256       \n",
      " hNormalization)                                                 \n",
      "                                                                 \n",
      " dropout (Dropout)           (None, 51, 4, 64)         0         \n",
      "                                                                 \n",
      " conv2d_3 (Conv2D)           (None, 49, 2, 64)         36928     \n",
      "                                                                 \n",
      " max_pooling2d_3 (MaxPooling  (None, 25, 1, 64)        0         \n",
      " 2D)                                                             \n",
      "                                                                 \n",
      " dropout_1 (Dropout)         (None, 25, 1, 64)         0         \n",
      "                                                                 \n",
      " flatten (Flatten)           (None, 1600)              0         \n",
      "                                                                 \n",
      " dense (Dense)               (None, 64)                102464    \n",
      "                                                                 \n",
      " dense_1 (Dense)             (None, 6)                 390       \n",
      "                                                                 \n",
      "=================================================================\n",
      "Total params: 215,046\n",
      "Trainable params: 214,662\n",
      "Non-trainable params: 384\n",
      "_________________________________________________________________\n"
     ]
    }
   ],
   "source": [
    "#Model Summary\n",
    "model.summary()"
   ]
  },
  {
   "cell_type": "code",
   "execution_count": 18,
   "id": "09ddd289",
   "metadata": {},
   "outputs": [],
   "source": [
    "#TENSORBOARD\n",
    "NAME= \"Mel Spec Model Original\"\n",
    "log_dir = \"logs/fit/\" + NAME\n",
    "tensorboard_callback = [tf.keras.callbacks.TensorBoard(log_dir=log_dir, histogram_freq=1),tf.keras.callbacks.EarlyStopping(patience=5, restore_best_weights=True)] \n"
   ]
  },
  {
   "cell_type": "code",
   "execution_count": 19,
   "id": "60f6e3e0",
   "metadata": {},
   "outputs": [
    {
     "name": "stdout",
     "output_type": "stream",
     "text": [
      "Epoch 1/550\n"
     ]
    },
    {
     "name": "stderr",
     "output_type": "stream",
     "text": [
      "2023-05-09 23:54:18.385034: E tensorflow/core/grappler/optimizers/meta_optimizer.cc:954] layout failed: INVALID_ARGUMENT: Size of values 0 does not match size of permutation 4 @ fanin shape insequential/dropout/dropout/SelectV2-2-TransposeNHWCToNCHW-LayoutOptimizer\n",
      "2023-05-09 23:54:19.305003: I tensorflow/compiler/xla/stream_executor/cuda/cuda_dnn.cc:424] Loaded cuDNN version 8600\n",
      "2023-05-09 23:54:19.956092: I tensorflow/compiler/xla/stream_executor/cuda/cuda_blas.cc:637] TensorFloat-32 will be used for the matrix multiplication. This will only be logged once.\n",
      "2023-05-09 23:54:19.957764: I tensorflow/compiler/xla/service/service.cc:169] XLA service 0x7f9ac17a8c60 initialized for platform CUDA (this does not guarantee that XLA will be used). Devices:\n",
      "2023-05-09 23:54:19.957778: I tensorflow/compiler/xla/service/service.cc:177]   StreamExecutor device (0): NVIDIA GeForce RTX 4090, Compute Capability 8.9\n",
      "2023-05-09 23:54:19.961308: I tensorflow/compiler/mlir/tensorflow/utils/dump_mlir_util.cc:269] disabling MLIR crash reproducer, set env var `MLIR_CRASH_REPRODUCER_DIRECTORY` to enable.\n",
      "2023-05-09 23:54:20.072412: I ./tensorflow/compiler/jit/device_compiler.h:180] Compiled cluster using XLA!  This line is logged at most once for the lifetime of the process.\n"
     ]
    },
    {
     "name": "stdout",
     "output_type": "stream",
     "text": [
      "115/115 [==============================] - 6s 17ms/step - loss: 1.7332 - acc: 0.3860 - val_loss: 1.3761 - val_acc: 0.4607\n",
      "Epoch 2/550\n",
      "115/115 [==============================] - 2s 13ms/step - loss: 1.2414 - acc: 0.5277 - val_loss: 1.1649 - val_acc: 0.5617\n",
      "Epoch 3/550\n",
      "115/115 [==============================] - 2s 13ms/step - loss: 1.1449 - acc: 0.5675 - val_loss: 1.0578 - val_acc: 0.5962\n",
      "Epoch 4/550\n",
      "115/115 [==============================] - 2s 13ms/step - loss: 1.0988 - acc: 0.5947 - val_loss: 1.0392 - val_acc: 0.6115\n",
      "Epoch 5/550\n",
      "115/115 [==============================] - 2s 13ms/step - loss: 1.0527 - acc: 0.6031 - val_loss: 1.0076 - val_acc: 0.6256\n",
      "Epoch 6/550\n",
      "115/115 [==============================] - 2s 13ms/step - loss: 1.0234 - acc: 0.6231 - val_loss: 0.9994 - val_acc: 0.6224\n",
      "Epoch 7/550\n",
      "115/115 [==============================] - 2s 13ms/step - loss: 0.9932 - acc: 0.6291 - val_loss: 0.9617 - val_acc: 0.6396\n",
      "Epoch 8/550\n",
      "115/115 [==============================] - 2s 13ms/step - loss: 0.9663 - acc: 0.6454 - val_loss: 0.9543 - val_acc: 0.6422\n",
      "Epoch 9/550\n",
      "115/115 [==============================] - 2s 13ms/step - loss: 0.9359 - acc: 0.6550 - val_loss: 0.9506 - val_acc: 0.6524\n",
      "Epoch 10/550\n",
      "115/115 [==============================] - 2s 13ms/step - loss: 0.9143 - acc: 0.6622 - val_loss: 0.9465 - val_acc: 0.6473\n",
      "Epoch 11/550\n",
      "115/115 [==============================] - 2s 13ms/step - loss: 0.8930 - acc: 0.6709 - val_loss: 0.9217 - val_acc: 0.6601\n",
      "Epoch 12/550\n",
      "115/115 [==============================] - 2s 13ms/step - loss: 0.8675 - acc: 0.6742 - val_loss: 0.9206 - val_acc: 0.6537\n",
      "Epoch 13/550\n",
      "115/115 [==============================] - 2s 13ms/step - loss: 0.8568 - acc: 0.6824 - val_loss: 0.9104 - val_acc: 0.6645\n",
      "Epoch 14/550\n",
      "115/115 [==============================] - 2s 13ms/step - loss: 0.8476 - acc: 0.6852 - val_loss: 0.8974 - val_acc: 0.6767\n",
      "Epoch 15/550\n",
      "115/115 [==============================] - 2s 13ms/step - loss: 0.8239 - acc: 0.6879 - val_loss: 0.9166 - val_acc: 0.6652\n",
      "Epoch 16/550\n",
      "115/115 [==============================] - 2s 13ms/step - loss: 0.8091 - acc: 0.6987 - val_loss: 0.8698 - val_acc: 0.6792\n",
      "Epoch 17/550\n",
      "115/115 [==============================] - 2s 13ms/step - loss: 0.7888 - acc: 0.7100 - val_loss: 0.8740 - val_acc: 0.6875\n",
      "Epoch 18/550\n",
      "115/115 [==============================] - 2s 13ms/step - loss: 0.7862 - acc: 0.7095 - val_loss: 0.8935 - val_acc: 0.6805\n",
      "Epoch 19/550\n",
      "115/115 [==============================] - 2s 13ms/step - loss: 0.7618 - acc: 0.7173 - val_loss: 0.8959 - val_acc: 0.6665\n",
      "Epoch 20/550\n",
      "115/115 [==============================] - 2s 13ms/step - loss: 0.7509 - acc: 0.7159 - val_loss: 0.8800 - val_acc: 0.6709\n",
      "Epoch 21/550\n",
      "115/115 [==============================] - 2s 14ms/step - loss: 0.7359 - acc: 0.7217 - val_loss: 0.8612 - val_acc: 0.6748\n",
      "Epoch 22/550\n",
      "115/115 [==============================] - 2s 13ms/step - loss: 0.7162 - acc: 0.7352 - val_loss: 0.8418 - val_acc: 0.6971\n",
      "Epoch 23/550\n",
      "115/115 [==============================] - 2s 13ms/step - loss: 0.7032 - acc: 0.7369 - val_loss: 0.8325 - val_acc: 0.6978\n",
      "Epoch 24/550\n",
      "115/115 [==============================] - 2s 13ms/step - loss: 0.6886 - acc: 0.7439 - val_loss: 0.8569 - val_acc: 0.6907\n",
      "Epoch 25/550\n",
      "115/115 [==============================] - 2s 13ms/step - loss: 0.6747 - acc: 0.7502 - val_loss: 0.8432 - val_acc: 0.6888\n",
      "Epoch 26/550\n",
      "115/115 [==============================] - 2s 13ms/step - loss: 0.6858 - acc: 0.7481 - val_loss: 0.8505 - val_acc: 0.6933\n",
      "Epoch 27/550\n",
      "115/115 [==============================] - 2s 13ms/step - loss: 0.6453 - acc: 0.7615 - val_loss: 0.8354 - val_acc: 0.6939\n",
      "Epoch 28/550\n",
      "115/115 [==============================] - 2s 13ms/step - loss: 0.6462 - acc: 0.7593 - val_loss: 0.8436 - val_acc: 0.6946\n"
     ]
    },
    {
     "name": "stderr",
     "output_type": "stream",
     "text": [
      "2023-05-09 23:55:05.421986: I tensorflow/core/common_runtime/executor.cc:1197] [/device:CPU:0] (DEBUG INFO) Executor start aborting (this does not indicate an error and you can ignore this message): INVALID_ARGUMENT: You must feed a value for placeholder tensor 'inputs' with dtype float and shape [?,51,4,64]\n",
      "\t [[{{node inputs}}]]\n",
      "2023-05-09 23:55:05.430740: I tensorflow/core/common_runtime/executor.cc:1197] [/device:CPU:0] (DEBUG INFO) Executor start aborting (this does not indicate an error and you can ignore this message): INVALID_ARGUMENT: You must feed a value for placeholder tensor 'inputs' with dtype float and shape [?,25,1,64]\n",
      "\t [[{{node inputs}}]]\n",
      "2023-05-09 23:55:05.758601: I tensorflow/core/common_runtime/executor.cc:1197] [/device:CPU:0] (DEBUG INFO) Executor start aborting (this does not indicate an error and you can ignore this message): INVALID_ARGUMENT: You must feed a value for placeholder tensor 'inputs' with dtype float and shape [?,51,4,64]\n",
      "\t [[{{node inputs}}]]\n",
      "2023-05-09 23:55:05.782724: I tensorflow/core/common_runtime/executor.cc:1197] [/device:CPU:0] (DEBUG INFO) Executor start aborting (this does not indicate an error and you can ignore this message): INVALID_ARGUMENT: You must feed a value for placeholder tensor 'inputs' with dtype float and shape [?,25,1,64]\n",
      "\t [[{{node inputs}}]]\n",
      "WARNING:absl:Found untraced functions such as _jit_compiled_convolution_op, _jit_compiled_convolution_op, _jit_compiled_convolution_op, _jit_compiled_convolution_op while saving (showing 4 of 4). These functions will not be directly callable after loading.\n"
     ]
    },
    {
     "name": "stdout",
     "output_type": "stream",
     "text": [
      "INFO:tensorflow:Assets written to: ./Models/MFCC Model Original/assets\n"
     ]
    },
    {
     "name": "stderr",
     "output_type": "stream",
     "text": [
      "INFO:tensorflow:Assets written to: ./Models/MFCC Model Original/assets\n"
     ]
    }
   ],
   "source": [
    "#COMPILATION\n",
    "history = model.fit(Xtrain, ytrain,\n",
    "                   validation_data = (Xval, yval),\n",
    "                   epochs = 550,\n",
    "                   batch_size = 64,\n",
    "                   callbacks=[tensorboard_callback])\n",
    "\n",
    "model.save(\"./Models/\"+NAME)"
   ]
  },
  {
   "cell_type": "code",
   "execution_count": 20,
   "id": "583f1878",
   "metadata": {},
   "outputs": [
    {
     "data": {
      "image/png": "[encoded data removed]",
      "text/plain": [
       "<Figure size 640x480 with 1 Axes>"
      ]
     },
     "metadata": {},
     "output_type": "display_data"
    },
    {
     "data": {
      "image/png": "[encoded data removed]",
      "text/plain": [
       "<Figure size 640x480 with 1 Axes>"
      ]
     },
     "metadata": {},
     "output_type": "display_data"
    }
   ],
   "source": [
    "#Plot Performance\n",
    "plot_performance(history)"
   ]
  },
  {
   "cell_type": "code",
   "execution_count": 22,
   "id": "721d80f2",
   "metadata": {},
   "outputs": [
    {
     "name": "stdout",
     "output_type": "stream",
     "text": [
      "49/49 [==============================] - 0s 2ms/step\n"
     ]
    }
   ],
   "source": [
    "y_pred = model.predict(Xtest)"
   ]
  },
  {
   "cell_type": "code",
   "execution_count": 26,
   "id": "735ff665",
   "metadata": {
    "scrolled": true
   },
   "outputs": [
    {
     "name": "stdout",
     "output_type": "stream",
     "text": [
      "49/49 [==============================] - 0s 2ms/step\n",
      "Test accuracy: 0.6882\n"
     ]
    }
   ],
   "source": [
    "from sklearn.metrics import accuracy_score\n",
    "\n",
    "y_pred_classes = np.argmax(y_pred, axis=1)\n",
    "\n",
    "# Calculate the accuracy\n",
    "accuracy = accuracy_score(ytest, y_pred_classes)\n",
    "print(f\"Test accuracy: {accuracy:.4f}\")"
   ]
  }
 ],
 "metadata": {
  "kernelspec": {
   "display_name": "Python 3 (ipykernel)",
   "language": "python",
   "name": "python3"
  },
  "language_info": {
   "codemirror_mode": {
    "name": "ipython",
    "version": 3
   },
   "file_extension": ".py",
   "mimetype": "text/x-python",
   "name": "python",
   "nbconvert_exporter": "python",
   "pygments_lexer": "ipython3",
   "version": "3.8.10"
  }
 },
 "nbformat": 4,
 "nbformat_minor": 5
}
