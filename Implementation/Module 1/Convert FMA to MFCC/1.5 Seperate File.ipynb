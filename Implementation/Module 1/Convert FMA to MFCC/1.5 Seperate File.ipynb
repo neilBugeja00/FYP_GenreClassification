{
 "cells": [
  {
   "cell_type": "code",
   "execution_count": 3,
   "id": "e527a59b",
   "metadata": {},
   "outputs": [],
   "source": [
    "import os \n",
    "import shutil"
   ]
  },
  {
   "cell_type": "code",
   "execution_count": 4,
   "id": "f1d8ded0",
   "metadata": {},
   "outputs": [],
   "source": [
    "input_dir = './audio_samples/rock'\n",
    "output_dir = './storage'"
   ]
  },
  {
   "cell_type": "code",
   "execution_count": 5,
   "id": "5160b683",
   "metadata": {},
   "outputs": [],
   "source": [
    "if not os.path.exists(output_dir):\n",
    "    os.makedirs(output_dir)"
   ]
  },
  {
   "cell_type": "code",
   "execution_count": 6,
   "id": "df8cb20b",
   "metadata": {},
   "outputs": [],
   "source": [
    "file_count = 0\n",
    "dir_count = 0"
   ]
  },
  {
   "cell_type": "code",
   "execution_count": 7,
   "id": "a9c55244",
   "metadata": {},
   "outputs": [],
   "source": [
    "for filename in os.listdir(input_dir):\n",
    "    if file_count % 900 == 0:\n",
    "        dir_count += 1\n",
    "        sub_dir = os.path.join(output_dir, f'dir_{dir_count}')\n",
    "        os.makedirs(sub_dir)\n",
    "    \n",
    "    src_path = os.path.join(input_dir, filename)\n",
    "    dst_path = os.path.join(sub_dir, filename)\n",
    "    shutil.move(src_path,dst_path)\n",
    "    \n",
    "    file_count += 1"
   ]
  }
 ],
 "metadata": {
  "kernelspec": {
   "display_name": "Python 3 (ipykernel)",
   "language": "python",
   "name": "python3"
  },
  "language_info": {
   "codemirror_mode": {
    "name": "ipython",
    "version": 3
   },
   "file_extension": ".py",
   "mimetype": "text/x-python",
   "name": "python",
   "nbconvert_exporter": "python",
   "pygments_lexer": "ipython3",
   "version": "3.9.16"
  }
 },
 "nbformat": 4,
 "nbformat_minor": 5
}
