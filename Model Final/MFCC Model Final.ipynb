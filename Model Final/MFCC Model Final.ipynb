{
 "cells": [
  {
   "cell_type": "code",
   "execution_count": 1,
   "id": "ae1179b4",
   "metadata": {},
   "outputs": [
    {
     "name": "stderr",
     "output_type": "stream",
     "text": [
      "2023-05-04 12:10:32.231539: I tensorflow/core/platform/cpu_feature_guard.cc:182] This TensorFlow binary is optimized to use available CPU instructions in performance-critical operations.\n",
      "To enable the following instructions: AVX2 FMA, in other operations, rebuild TensorFlow with the appropriate compiler flags.\n"
     ]
    }
   ],
   "source": [
    "import os\n",
    "import json\n",
    "import csv\n",
    "import sys\n",
    "import numpy as np\n",
    "import matplotlib.pyplot as plt\n",
    "import librosa\n",
    "import tensorflow as tf\n",
    "from sklearn.model_selection import train_test_split, StratifiedShuffleSplit\n",
    "from tensorflow.keras.utils import plot_model\n",
    "import datetime\n",
    "import time\n",
    "from tensorflow.keras.callbacks import TensorBoard"
   ]
  },
  {
   "cell_type": "code",
   "execution_count": 2,
   "id": "b70b38c7",
   "metadata": {},
   "outputs": [
    {
     "data": {
      "text/plain": [
       "131072"
      ]
     },
     "execution_count": 2,
     "metadata": {},
     "output_type": "execute_result"
    }
   ],
   "source": [
    "#Paths and declaration\n",
    "audio_path = \"./FMA Balanced\"\n",
    "csv_path = \"csv_data.csv\"\n",
    "\n",
    "sr=22050\n",
    "\n",
    "csv.field_size_limit(sys.maxsize)"
   ]
  },
  {
   "cell_type": "code",
   "execution_count": 3,
   "id": "93dc7124",
   "metadata": {},
   "outputs": [],
   "source": [
    "#All songs under 30 seconds\n",
    "TOTAL_SAMPLES = 29 * sr\n",
    "\n",
    "#Split the song in 3\n",
    "NUM_SLICES = 3\n",
    "SAMPLES_PER_SLICE = int(TOTAL_SAMPLES / NUM_SLICES)"
   ]
  },
  {
   "cell_type": "code",
   "execution_count": 4,
   "id": "b8d51a7e",
   "metadata": {},
   "outputs": [],
   "source": [
    "#Write MFCC to CSV\n",
    "def csv_write_data(audio_path, csv_path):\n",
    "    #Create a list of rows for writing to CSV\n",
    "    rows = []\n",
    "\n",
    "    #Generate MFCC for every song & writing to CSV\n",
    "    for i, (dirpath, dirnames, filenames) in enumerate(os.walk(audio_path)):\n",
    "        for file in filenames:\n",
    "            #Generate MFCC for every item in audio_path * slice\n",
    "            song, sr = librosa.load(os.path.join(dirpath, file),duration=29)\n",
    "\n",
    "            for s in range(NUM_SLICES):\n",
    "                start_sample = SAMPLES_PER_SLICE * s\n",
    "                end_sample = start_sample + SAMPLES_PER_SLICE\n",
    "                \n",
    "                \n",
    "                mfcc = librosa.feature.mfcc(y=song[start_sample:end_sample], sr=sr, n_mfcc=40)\n",
    "                mfcc = mfcc.T\n",
    "\n",
    "                rows.append([i-1,json.dumps(mfcc.tolist())])\n",
    "\n",
    "        #Writing CSV\n",
    "        with open(csv_path, 'w', newline='') as csvfile:\n",
    "            writer = csv.writer(csvfile)\n",
    "\n",
    "            # Write the header row\n",
    "            writer.writerow([\"genre\", \"mfcc\"])\n",
    "\n",
    "            # Write the values rows\n",
    "            for row in rows:\n",
    "                writer.writerow(row)"
   ]
  },
  {
   "cell_type": "code",
   "execution_count": 5,
   "id": "88b67eb9",
   "metadata": {},
   "outputs": [],
   "source": [
    "#Read MFCC data from CSV\n",
    "def csv_read_data(csv_path):\n",
    "    # Load data from CSV file\n",
    "    with open(csv_path, 'r') as csvfile:\n",
    "        reader = csv.reader(csvfile)\n",
    "\n",
    "        next(reader)\n",
    "\n",
    "        # Initialize lists to hold genre and MFCC data\n",
    "        genres = []\n",
    "        mfcc = []\n",
    "\n",
    "        # Iterate over each row of the CSV file\n",
    "        for row in reader:\n",
    "            # Extract genre and MFCC data from the row\n",
    "            genre = int(row[0])\n",
    "            mfcc_data = json.loads(row[1])\n",
    "\n",
    "            # Append genre and MFCC data to lists\n",
    "            genres.append(genre)\n",
    "            mfcc.append(mfcc_data)\n",
    "\n",
    "    # Convert lists to numpy arrays\n",
    "    X = np.array(mfcc)\n",
    "    y = np.array(genres)\n",
    "\n",
    "    return X, y"
   ]
  },
  {
   "cell_type": "code",
   "execution_count": 6,
   "id": "70e5f8b8",
   "metadata": {},
   "outputs": [],
   "source": [
    "#Use stratified split to seperate data into training, validation and test\n",
    "\n",
    "def stratified_split_dataset(inputs, targets, split_size):\n",
    "    sss = StratifiedShuffleSplit(n_splits=1, test_size=split_size, random_state=42)\n",
    "    \n",
    "    train_val_indices, test_indices = next(sss.split(inputs, targets))\n",
    "    inputs_train_val, targets_train_val = inputs[train_val_indices], targets[train_val_indices]\n",
    "    \n",
    "    sss_train = StratifiedShuffleSplit(n_splits=1, test_size=split_size, random_state=43)\n",
    "    train_indices, val_indices = next(sss_train.split(inputs_train_val, targets_train_val))\n",
    "    \n",
    "    inputs_train, targets_train = inputs_train_val[train_indices], targets_train_val[train_indices]\n",
    "    inputs_val, targets_val = inputs_train_val[val_indices], targets_train_val[val_indices]\n",
    "    inputs_test, targets_test = inputs[test_indices], targets[test_indices]\n",
    "    \n",
    "    #Needed for compatibility reasons\n",
    "    inputs_train = inputs_train[...,np.newaxis]\n",
    "    inputs_val = inputs_val[...,np.newaxis]\n",
    "    inputs_test=  inputs_test[..., np.newaxis]\n",
    "    \n",
    "    \n",
    "    return inputs_train, inputs_val, inputs_test, targets_train, targets_val, targets_test"
   ]
  },
  {
   "cell_type": "code",
   "execution_count": 15,
   "id": "8f53b3e6",
   "metadata": {},
   "outputs": [],
   "source": [
    "#Design the model\n",
    "def design_model(input_shape):\n",
    "    \n",
    "    model = tf.keras.models.Sequential([\n",
    "        \n",
    "        tf.keras.layers.Conv2D(64, (3,3), activation='relu', input_shape=input_shape),\n",
    "        tf.keras.layers.MaxPooling2D((3,3), strides=(2,2), padding='same'),\n",
    "        tf.keras.layers.BatchNormalization(),\n",
    "        \n",
    "        tf.keras.layers.Conv2D(64, (3,3), activation='relu'),\n",
    "        tf.keras.layers.MaxPooling2D((3,3), strides=(2,2), padding='same'),\n",
    "        tf.keras.layers.BatchNormalization(),\n",
    "        \n",
    "        tf.keras.layers.Conv2D(64, (2,2), activation='relu'),\n",
    "        tf.keras.layers.MaxPooling2D((3,3), strides=(2,2), padding='same'),\n",
    "        tf.keras.layers.BatchNormalization(),\n",
    "        tf.keras.layers.Dropout(0.3),\n",
    "        \n",
    "        tf.keras.layers.Flatten(),\n",
    "        tf.keras.layers.Dense(64, activation='relu'), \n",
    "        tf.keras.layers.Dense(len(np.unique(targets)), activation='softmax')\n",
    "    ])\n",
    "\n",
    "    return model"
   ]
  },
  {
   "cell_type": "code",
   "execution_count": 8,
   "id": "a43b97a7",
   "metadata": {},
   "outputs": [],
   "source": [
    "#Used to plot performance history of model\n",
    "def plot_performance(hist):\n",
    "    \n",
    "    acc = hist.history['acc']\n",
    "    val_acc = hist.history['val_acc']\n",
    "    loss = hist.history['loss']\n",
    "    val_loss = hist.history['val_loss']\n",
    "\n",
    "    epochs = range(len(acc))\n",
    "\n",
    "    plt.plot(epochs, acc, 'r', label='Training accuracy')\n",
    "    plt.plot(epochs, val_acc, 'b', label='Validation accuracy')\n",
    "    plt.title('Training and validation accuracy')\n",
    "    plt.legend()\n",
    "    plt.figure()\n",
    "\n",
    "    plt.plot(epochs, loss, 'r', label='Training Loss')\n",
    "    plt.plot(epochs, val_loss, 'b', label='Validation Loss')\n",
    "    plt.title('Training and validation loss')\n",
    "    plt.legend()\n",
    "\n",
    "    plt.show()"
   ]
  },
  {
   "cell_type": "code",
   "execution_count": 9,
   "id": "8829b963",
   "metadata": {},
   "outputs": [],
   "source": [
    "#=============== MAIN ===============\n",
    "\n",
    "#CSV WRITING DATA\n",
    "csv_write_data(audio_path, csv_path)"
   ]
  },
  {
   "cell_type": "code",
   "execution_count": 10,
   "id": "75a5b1f9",
   "metadata": {},
   "outputs": [],
   "source": [
    "#Reading MFCC data from CSV\n",
    "inputs, targets = csv_read_data(csv_path)"
   ]
  },
  {
   "cell_type": "code",
   "execution_count": 11,
   "id": "c6aab7dd",
   "metadata": {},
   "outputs": [],
   "source": [
    "#Splitting data\n",
    "Xtrain, Xval, Xtest, ytrain, yval, ytest =stratified_split_dataset(inputs, targets, 0.2)"
   ]
  },
  {
   "cell_type": "code",
   "execution_count": 16,
   "id": "cea1a142",
   "metadata": {},
   "outputs": [
    {
     "name": "stderr",
     "output_type": "stream",
     "text": [
      "2023-05-04 12:10:59.823788: I tensorflow/core/common_runtime/gpu/gpu_device.cc:1635] Created device /job:localhost/replica:0/task:0/device:GPU:0 with 22250 MB memory:  -> device: 0, name: NVIDIA GeForce RTX 3090, pci bus id: 0000:81:00.0, compute capability: 8.6\n"
     ]
    }
   ],
   "source": [
    "#Model Creation\n",
    "input_shape = (Xtrain.shape[1], Xtrain.shape[2], 1)\n",
    "model = design_model(input_shape)\n",
    "\n",
    "model.compile(optimizer = tf.keras.optimizers.Adam(learning_rate=0.001),\n",
    "             loss = 'sparse_categorical_crossentropy',\n",
    "             metrics = ['acc'])"
   ]
  },
  {
   "cell_type": "code",
   "execution_count": 22,
   "id": "023c665c",
   "metadata": {},
   "outputs": [
    {
     "name": "stdout",
     "output_type": "stream",
     "text": [
      "Model: \"sequential\"\n",
      "_________________________________________________________________\n",
      " Layer (type)                Output Shape              Param #   \n",
      "=================================================================\n",
      " conv2d (Conv2D)             (None, 415, 38, 64)       640       \n",
      "                                                                 \n",
      " max_pooling2d (MaxPooling2D  (None, 208, 19, 64)      0         \n",
      " )                                                               \n",
      "                                                                 \n",
      " batch_normalization (BatchN  (None, 208, 19, 64)      256       \n",
      " ormalization)                                                   \n",
      "                                                                 \n",
      " conv2d_1 (Conv2D)           (None, 206, 17, 64)       36928     \n",
      "                                                                 \n",
      " max_pooling2d_1 (MaxPooling  (None, 103, 9, 64)       0         \n",
      " 2D)                                                             \n",
      "                                                                 \n",
      " batch_normalization_1 (Batc  (None, 103, 9, 64)       256       \n",
      " hNormalization)                                                 \n",
      "                                                                 \n",
      " conv2d_2 (Conv2D)           (None, 102, 8, 64)        16448     \n",
      "                                                                 \n",
      " max_pooling2d_2 (MaxPooling  (None, 51, 4, 64)        0         \n",
      " 2D)                                                             \n",
      "                                                                 \n",
      " batch_normalization_2 (Batc  (None, 51, 4, 64)        256       \n",
      " hNormalization)                                                 \n",
      "                                                                 \n",
      " dropout (Dropout)           (None, 51, 4, 64)         0         \n",
      "                                                                 \n",
      " flatten (Flatten)           (None, 13056)             0         \n",
      "                                                                 \n",
      " dense (Dense)               (None, 64)                835648    \n",
      "                                                                 \n",
      " dense_1 (Dense)             (None, 7)                 455       \n",
      "                                                                 \n",
      "=================================================================\n",
      "Total params: 890,887\n",
      "Trainable params: 890,503\n",
      "Non-trainable params: 384\n",
      "_________________________________________________________________\n"
     ]
    }
   ],
   "source": [
    "#Model Summary\n",
    "model.summary()"
   ]
  },
  {
   "cell_type": "code",
   "execution_count": 17,
   "id": "09ddd289",
   "metadata": {},
   "outputs": [],
   "source": [
    "#TENSORBOARD\n",
    "NAME= \"Final Version\"\n",
    "log_dir = \"logs/fit/\" + NAME\n",
    "tensorboard_callback = tf.keras.callbacks.TensorBoard(log_dir=log_dir, histogram_freq=1)\n"
   ]
  },
  {
   "cell_type": "code",
   "execution_count": 18,
   "id": "60f6e3e0",
   "metadata": {},
   "outputs": [
    {
     "name": "stdout",
     "output_type": "stream",
     "text": [
      "Epoch 1/15\n"
     ]
    },
    {
     "name": "stderr",
     "output_type": "stream",
     "text": [
      "2023-05-04 12:11:01.034813: E tensorflow/core/grappler/optimizers/meta_optimizer.cc:954] layout failed: INVALID_ARGUMENT: Size of values 0 does not match size of permutation 4 @ fanin shape insequential/dropout/dropout/SelectV2-2-TransposeNHWCToNCHW-LayoutOptimizer\n",
      "2023-05-04 12:11:02.000143: I tensorflow/compiler/xla/stream_executor/cuda/cuda_dnn.cc:424] Loaded cuDNN version 8600\n",
      "2023-05-04 12:11:02.704844: I tensorflow/compiler/xla/stream_executor/cuda/cuda_blas.cc:637] TensorFloat-32 will be used for the matrix multiplication. This will only be logged once.\n",
      "2023-05-04 12:11:02.706143: I tensorflow/compiler/xla/service/service.cc:169] XLA service 0x7fe0c6dc0f70 initialized for platform CUDA (this does not guarantee that XLA will be used). Devices:\n",
      "2023-05-04 12:11:02.706160: I tensorflow/compiler/xla/service/service.cc:177]   StreamExecutor device (0): NVIDIA GeForce RTX 3090, Compute Capability 8.6\n",
      "2023-05-04 12:11:02.710435: I tensorflow/compiler/mlir/tensorflow/utils/dump_mlir_util.cc:269] disabling MLIR crash reproducer, set env var `MLIR_CRASH_REPRODUCER_DIRECTORY` to enable.\n",
      "2023-05-04 12:11:02.853797: I ./tensorflow/compiler/jit/device_compiler.h:180] Compiled cluster using XLA!  This line is logged at most once for the lifetime of the process.\n"
     ]
    },
    {
     "name": "stdout",
     "output_type": "stream",
     "text": [
      "21/21 [==============================] - 5s 35ms/step - loss: 1.9201 - acc: 0.3475 - val_loss: 4.7497 - val_acc: 0.2560\n",
      "Epoch 2/15\n",
      "21/21 [==============================] - 0s 23ms/step - loss: 1.3210 - acc: 0.5045 - val_loss: 3.2636 - val_acc: 0.2827\n",
      "Epoch 3/15\n",
      "21/21 [==============================] - 0s 22ms/step - loss: 0.9974 - acc: 0.6153 - val_loss: 2.9248 - val_acc: 0.3185\n",
      "Epoch 4/15\n",
      "21/21 [==============================] - 0s 22ms/step - loss: 0.7149 - acc: 0.7396 - val_loss: 2.6424 - val_acc: 0.3542\n",
      "Epoch 5/15\n",
      "21/21 [==============================] - 0s 22ms/step - loss: 0.5168 - acc: 0.8304 - val_loss: 2.1787 - val_acc: 0.3452\n",
      "Epoch 6/15\n",
      "21/21 [==============================] - 0s 22ms/step - loss: 0.3119 - acc: 0.9174 - val_loss: 1.7571 - val_acc: 0.4613\n",
      "Epoch 7/15\n",
      "21/21 [==============================] - 0s 22ms/step - loss: 0.1776 - acc: 0.9591 - val_loss: 1.8806 - val_acc: 0.5089\n",
      "Epoch 8/15\n",
      "21/21 [==============================] - 0s 22ms/step - loss: 0.1116 - acc: 0.9814 - val_loss: 1.5899 - val_acc: 0.5476\n",
      "Epoch 9/15\n",
      "21/21 [==============================] - 0s 22ms/step - loss: 0.0679 - acc: 0.9918 - val_loss: 1.4615 - val_acc: 0.5774\n",
      "Epoch 10/15\n",
      "21/21 [==============================] - 0s 22ms/step - loss: 0.0392 - acc: 0.9970 - val_loss: 1.4996 - val_acc: 0.5714\n",
      "Epoch 11/15\n",
      "21/21 [==============================] - 0s 22ms/step - loss: 0.0225 - acc: 0.9993 - val_loss: 1.4392 - val_acc: 0.5804\n",
      "Epoch 12/15\n",
      "21/21 [==============================] - 0s 21ms/step - loss: 0.0156 - acc: 0.9993 - val_loss: 1.4398 - val_acc: 0.5923\n",
      "Epoch 13/15\n",
      "21/21 [==============================] - 0s 21ms/step - loss: 0.0134 - acc: 1.0000 - val_loss: 1.4690 - val_acc: 0.5952\n",
      "Epoch 14/15\n",
      "21/21 [==============================] - 0s 22ms/step - loss: 0.0093 - acc: 1.0000 - val_loss: 1.4324 - val_acc: 0.6250\n",
      "Epoch 15/15\n",
      "21/21 [==============================] - 0s 22ms/step - loss: 0.0067 - acc: 1.0000 - val_loss: 1.4887 - val_acc: 0.6250\n"
     ]
    }
   ],
   "source": [
    "#COMPILATION\n",
    "history = model.fit(Xtrain, ytrain,\n",
    "                   validation_data = (Xval, yval),\n",
    "                   epochs = 15,\n",
    "                   batch_size = 64,\n",
    "                   callbacks=[tensorboard_callback])"
   ]
  },
  {
   "cell_type": "code",
   "execution_count": 19,
   "id": "583f1878",
   "metadata": {},
   "outputs": [
    {
     "data": {
      "image/png": "[encoded data removed]",
      "text/plain": [
       "<Figure size 640x480 with 1 Axes>"
      ]
     },
     "metadata": {},
     "output_type": "display_data"
    },
    {
     "data": {
      "image/png": "[encoded data removed]",
      "text/plain": [
       "<Figure size 640x480 with 1 Axes>"
      ]
     },
     "metadata": {},
     "output_type": "display_data"
    }
   ],
   "source": [
    "#Plot Performance\n",
    "plot_performance(history)"
   ]
  },
  {
   "cell_type": "code",
   "execution_count": 20,
   "id": "fdb351ab",
   "metadata": {},
   "outputs": [
    {
     "name": "stderr",
     "output_type": "stream",
     "text": [
      "2023-05-04 12:11:12.700613: I tensorflow/core/common_runtime/executor.cc:1197] [/device:CPU:0] (DEBUG INFO) Executor start aborting (this does not indicate an error and you can ignore this message): INVALID_ARGUMENT: You must feed a value for placeholder tensor 'inputs' with dtype float and shape [?,51,4,64]\n",
      "\t [[{{node inputs}}]]\n",
      "2023-05-04 12:11:13.229436: I tensorflow/core/common_runtime/executor.cc:1197] [/device:CPU:0] (DEBUG INFO) Executor start aborting (this does not indicate an error and you can ignore this message): INVALID_ARGUMENT: You must feed a value for placeholder tensor 'inputs' with dtype float and shape [?,51,4,64]\n",
      "\t [[{{node inputs}}]]\n",
      "WARNING:absl:Found untraced functions such as _jit_compiled_convolution_op, _jit_compiled_convolution_op, _jit_compiled_convolution_op while saving (showing 3 of 3). These functions will not be directly callable after loading.\n"
     ]
    },
    {
     "name": "stdout",
     "output_type": "stream",
     "text": [
      "INFO:tensorflow:Assets written to: Random Sampler Re run4/assets\n"
     ]
    },
    {
     "name": "stderr",
     "output_type": "stream",
     "text": [
      "INFO:tensorflow:Assets written to: Random Sampler Re run4/assets\n"
     ]
    }
   ],
   "source": [
    "model.save(NAME)"
   ]
  },
  {
   "cell_type": "code",
   "execution_count": 21,
   "id": "c4b39615",
   "metadata": {},
   "outputs": [],
   "source": [
    "model.save(NAME+\".h5\", save_format='h5')"
   ]
  }
 ],
 "metadata": {
  "kernelspec": {
   "display_name": "Python 3 (ipykernel)",
   "language": "python",
   "name": "python3"
  },
  "language_info": {
   "codemirror_mode": {
    "name": "ipython",
    "version": 3
   },
   "file_extension": ".py",
   "mimetype": "text/x-python",
   "name": "python",
   "nbconvert_exporter": "python",
   "pygments_lexer": "ipython3",
   "version": "3.9.16"
  }
 },
 "nbformat": 4,
 "nbformat_minor": 5
}
