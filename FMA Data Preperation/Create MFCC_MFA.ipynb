{
 "cells": [
  {
   "cell_type": "code",
   "execution_count": 1,
   "id": "08b1622a",
   "metadata": {},
   "outputs": [],
   "source": [
    "import os\n",
    "import librosa\n",
    "import matplotlib.pyplot as plt\n",
    "from matplotlib import cm\n",
    "from matplotlib.backends.backend_agg import FigureCanvasAgg\n",
    "\n",
    "COLAB = False"
   ]
  },
  {
   "cell_type": "code",
   "execution_count": 3,
   "id": "7f360ca0",
   "metadata": {},
   "outputs": [],
   "source": [
    "#Declaring genres & sr\n",
    "genres = 'blues classical country folk hiphop jazz pop rock'\n",
    "genres = genres.split()\n",
    "\n",
    "sr=44100"
   ]
  },
  {
   "cell_type": "code",
   "execution_count": 3,
   "id": "d5bb3ae3",
   "metadata": {},
   "outputs": [],
   "source": [
    "#Create MFCC folders\n",
    "try:\n",
    "    os.makedirs('./mfcc')\n",
    "    os.makedirs('./mfcc/train')\n",
    "    os.makedirs('./mfcc/test')\n",
    "except FileExistsError:\n",
    "    pass"
   ]
  },
  {
   "cell_type": "code",
   "execution_count": 6,
   "id": "ad649ada",
   "metadata": {},
   "outputs": [],
   "source": [
    "#Create MFCC genre folders\n",
    "for g in genres:\n",
    "    path1 = os.path.join('./mfcc/test', f'{g}')\n",
    "    try:\n",
    "        os.makedirs(path1)\n",
    "    except FileExistsError:\n",
    "        pass\n",
    "    path2 = os.path.join('./mfcc/train', f'{g}')\n",
    "    try:\n",
    "        os.makedirs(path2)\n",
    "    except FileExistsError:\n",
    "        pass"
   ]
  },
  {
   "cell_type": "code",
   "execution_count": 4,
   "id": "7566ed64",
   "metadata": {},
   "outputs": [
    {
     "name": "stdout",
     "output_type": "stream",
     "text": [
      "c\n"
     ]
    },
    {
     "ename": "FileNotFoundError",
     "evalue": "[Errno 2] No such file or directory: './audio_samples/c'",
     "output_type": "error",
     "traceback": [
      "\u001b[0;31m---------------------------------------------------------------------------\u001b[0m",
      "\u001b[0;31mFileNotFoundError\u001b[0m                         Traceback (most recent call last)",
      "Cell \u001b[0;32mIn[4], line 9\u001b[0m\n\u001b[1;32m      7\u001b[0m j \u001b[38;5;241m=\u001b[39m \u001b[38;5;241m0\u001b[39m\n\u001b[1;32m      8\u001b[0m \u001b[38;5;28mprint\u001b[39m(g)\n\u001b[0;32m----> 9\u001b[0m \u001b[38;5;28;01mfor\u001b[39;00m filename \u001b[38;5;129;01min\u001b[39;00m \u001b[43mos\u001b[49m\u001b[38;5;241;43m.\u001b[39;49m\u001b[43mlistdir\u001b[49m\u001b[43m(\u001b[49m\u001b[43mos\u001b[49m\u001b[38;5;241;43m.\u001b[39;49m\u001b[43mpath\u001b[49m\u001b[38;5;241;43m.\u001b[39;49m\u001b[43mjoin\u001b[49m\u001b[43m(\u001b[49m\u001b[43mdirectory\u001b[49m\u001b[43m,\u001b[49m\u001b[43m \u001b[49m\u001b[38;5;124;43mf\u001b[39;49m\u001b[38;5;124;43m\"\u001b[39;49m\u001b[38;5;132;43;01m{\u001b[39;49;00m\u001b[43mg\u001b[49m\u001b[38;5;132;43;01m}\u001b[39;49;00m\u001b[38;5;124;43m\"\u001b[39;49m\u001b[43m)\u001b[49m\u001b[43m)\u001b[49m:\n\u001b[1;32m     10\u001b[0m     song \u001b[38;5;241m=\u001b[39m os\u001b[38;5;241m.\u001b[39mpath\u001b[38;5;241m.\u001b[39mjoin(\u001b[38;5;124mf\u001b[39m\u001b[38;5;124m'\u001b[39m\u001b[38;5;132;01m{\u001b[39;00mdirectory\u001b[38;5;132;01m}\u001b[39;00m\u001b[38;5;124m/\u001b[39m\u001b[38;5;132;01m{\u001b[39;00mg\u001b[38;5;132;01m}\u001b[39;00m\u001b[38;5;124m'\u001b[39m, \u001b[38;5;124mf\u001b[39m\u001b[38;5;124m'\u001b[39m\u001b[38;5;132;01m{\u001b[39;00mfilename\u001b[38;5;132;01m}\u001b[39;00m\u001b[38;5;124m'\u001b[39m)\n\u001b[1;32m     11\u001b[0m     j \u001b[38;5;241m=\u001b[39m j\u001b[38;5;241m+\u001b[39m\u001b[38;5;241m1\u001b[39m\n",
      "\u001b[0;31mFileNotFoundError\u001b[0m: [Errno 2] No such file or directory: './audio_samples/c'"
     ]
    }
   ],
   "source": [
    "#Create MFCC of each FMA song snippet\n",
    "if COLAB:\n",
    "    directory = '/content/gdrive/MyDrive/Data/audio_samples'\n",
    "else:\n",
    "    directory = './audio_samples'\n",
    "for g in genres:\n",
    "    j = 0\n",
    "    print(g)\n",
    "    for filename in os.listdir(os.path.join(directory, f\"{g}\")):\n",
    "        song = os.path.join(f'{directory}/{g}', f'{filename}')\n",
    "        j = j+1\n",
    "        y, sr = librosa.load(song, duration=10)\n",
    "        mfcc = librosa.feature.mfcc(y=y, sr=sr, n_mfcc=40)\n",
    "        fig, ax = plt.subplots()\n",
    "        ax.imshow(mfcc, interpolation='nearest', origin='lower', aspect='auto', cmap=cm.coolwarm)      \n",
    "        plt.savefig(f'./mfcc/train/{g}/{g}{j}.png')\n",
    "        plt.close()"
   ]
  },
  {
   "cell_type": "code",
   "execution_count": 2,
   "id": "ce0be788",
   "metadata": {},
   "outputs": [],
   "source": [
    "import os\n",
    "import librosa\n",
    "import matplotlib.pyplot as plt\n",
    "from matplotlib import cm\n",
    "from matplotlib.backends.backend_agg import FigureCanvasAgg\n",
    "import gc\n",
    "\n",
    "COLAB = False"
   ]
  },
  {
   "cell_type": "code",
   "execution_count": null,
   "id": "ef14fcbb",
   "metadata": {},
   "outputs": [],
   "source": [
    "#CHANGE G\n",
    "#CHANGE J\n",
    "#CHANGE DIRECTORY"
   ]
  },
  {
   "cell_type": "code",
   "execution_count": null,
   "id": "77578af5",
   "metadata": {},
   "outputs": [
    {
     "name": "stdout",
     "output_type": "stream",
     "text": [
      "Arrived at file number:  10900\n",
      "Arrived at file number:  11000\n",
      "Arrived at file number:  11100\n",
      "Arrived at file number:  11200\n",
      "Arrived at file number:  11300\n",
      "Arrived at file number:  11400\n"
     ]
    }
   ],
   "source": [
    "g='rock'\n",
    "sr=44100\n",
    "directory = './storage/dir_13'\n",
    "j=10800\n",
    "\n",
    "for filename in os.listdir(directory):\n",
    "        song = os.path.join(f'{directory}', f'{filename}')\n",
    "        j = j+1\n",
    "        if(j%100==0):\n",
    "            print(\"Arrived at file number: \",j)\n",
    "        y, sr = librosa.load(song, duration=10)\n",
    "        mfcc = librosa.feature.mfcc(y=y, sr=sr, n_mfcc=40)\n",
    "        fig, ax = plt.subplots()\n",
    "        ax.imshow(mfcc, interpolation='nearest', origin='lower', aspect='auto', cmap=cm.coolwarm)      \n",
    "        plt.savefig(f'./mfcc/train/{g}/{g}{j}.png')\n",
    "        plt.close(fig)\n",
    "        gc.collect()"
   ]
  },
  {
   "cell_type": "code",
   "execution_count": null,
   "id": "4ec21b09",
   "metadata": {},
   "outputs": [],
   "source": []
  },
  {
   "cell_type": "code",
   "execution_count": null,
   "id": "6c225e6d",
   "metadata": {},
   "outputs": [],
   "source": [
    "g='folk'\n",
    "sr=44100\n",
    "directory = './audio_samples/'\n",
    "j=0\n",
    "\n",
    "for filename in os.listdir(os.path.join(directory, f\"{g}\")):\n",
    "        song = os.path.join(f'{directory}/{g}', f'{filename}')\n",
    "        j = j+1\n",
    "        if(j%100==0):\n",
    "            print(\"Arrived at file number: \",j)\n",
    "        y, sr = librosa.load(song, duration=10)\n",
    "        mfcc = librosa.feature.mfcc(y=y, sr=sr, n_mfcc=40)\n",
    "        fig, ax = plt.subplots()\n",
    "        ax.imshow(mfcc, interpolation='nearest', origin='lower', aspect='auto', cmap=cm.coolwarm)      \n",
    "        plt.savefig(f'./mfcc/train/{g}/{g}{j}.png')\n",
    "        plt.close(fig)\n",
    "        gc.collect()"
   ]
  }
 ],
 "metadata": {
  "kernelspec": {
   "display_name": "Python 3 (ipykernel)",
   "language": "python",
   "name": "python3"
  },
  "language_info": {
   "codemirror_mode": {
    "name": "ipython",
    "version": 3
   },
   "file_extension": ".py",
   "mimetype": "text/x-python",
   "name": "python",
   "nbconvert_exporter": "python",
   "pygments_lexer": "ipython3",
   "version": "3.9.16"
  }
 },
 "nbformat": 4,
 "nbformat_minor": 5
}
