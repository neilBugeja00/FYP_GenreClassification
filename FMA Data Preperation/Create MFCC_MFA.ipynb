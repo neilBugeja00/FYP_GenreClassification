{
 "cells": [
  {
   "cell_type": "code",
   "execution_count": 1,
   "id": "08b1622a",
   "metadata": {},
   "outputs": [],
   "source": [
    "import os\n",
    "import librosa\n",
    "import matplotlib.pyplot as plt\n",
    "from matplotlib import cm\n",
    "from matplotlib.backends.backend_agg import FigureCanvasAgg\n",
    "\n",
    "COLAB = False"
   ]
  },
  {
   "cell_type": "code",
   "execution_count": 2,
   "id": "7f360ca0",
   "metadata": {},
   "outputs": [],
   "source": [
    "#Declaring genres & sr\n",
    "genres = 'blues classical country folk hiphop jazz pop rock'\n",
    "genres = genres.split()\n",
    "\n",
    "sr=44100"
   ]
  },
  {
   "cell_type": "code",
   "execution_count": 3,
   "id": "d5bb3ae3",
   "metadata": {},
   "outputs": [],
   "source": [
    "#Create MFCC folders\n",
    "try:\n",
    "    os.makedirs('./mfcc')\n",
    "    os.makedirs('./mfcc/train')\n",
    "    os.makedirs('./mfcc/test')\n",
    "except FileExistsError:\n",
    "    pass"
   ]
  },
  {
   "cell_type": "code",
   "execution_count": 4,
   "id": "ad649ada",
   "metadata": {},
   "outputs": [],
   "source": [
    "#Create MFCC genre folders\n",
    "for g in genres:\n",
    "    path1 = os.path.join('./mfcc/test', f'{g}')\n",
    "    try:\n",
    "        os.makedirs(path1)\n",
    "    except FileExistsError:\n",
    "        pass\n",
    "    path2 = os.path.join('./mfcc/train', f'{g}')\n",
    "    try:\n",
    "        os.makedirs(path2)\n",
    "    except FileExistsError:\n",
    "        pass"
   ]
  },
  {
   "cell_type": "code",
   "execution_count": null,
   "id": "7566ed64",
   "metadata": {},
   "outputs": [
    {
     "name": "stdout",
     "output_type": "stream",
     "text": [
      "blues\n"
     ]
    },
    {
     "name": "stderr",
     "output_type": "stream",
     "text": [
      "/tmp/ipykernel_5393/3975485751.py:14: RuntimeWarning: More than 20 figures have been opened. Figures created through the pyplot interface (`matplotlib.pyplot.figure`) are retained until explicitly closed and may consume too much memory. (To control this warning, see the rcParam `figure.max_open_warning`). Consider using `matplotlib.pyplot.close()`.\n",
      "  fig, ax = plt.subplots()\n"
     ]
    },
    {
     "name": "stdout",
     "output_type": "stream",
     "text": [
      "classical\n",
      "country\n",
      "folk\n"
     ]
    }
   ],
   "source": [
    "#Create MFCC of each FMA song snippet\n",
    "if COLAB:\n",
    "    directory = '/content/gdrive/MyDrive/Data/audio_samples'\n",
    "else:\n",
    "    directory = './audio_samples'\n",
    "for g in genres:\n",
    "    j = 0\n",
    "    print(g)\n",
    "    for filename in os.listdir(os.path.join(directory, f\"{g}\")):\n",
    "        song = os.path.join(f'{directory}/{g}', f'{filename}')\n",
    "        j = j+1\n",
    "        y, sr = librosa.load(song, duration=10)\n",
    "        mfcc = librosa.feature.mfcc(y=y, sr=sr, n_mfcc=40)\n",
    "        fig, ax = plt.subplots()\n",
    "        ax.imshow(mfcc, interpolation='nearest', origin='lower', aspect='auto', cmap=cm.coolwarm)      \n",
    "        plt.savefig(f'./mfcc/train/{g}/{g}{j}.png')"
   ]
  }
 ],
 "metadata": {
  "kernelspec": {
   "display_name": "Python 3 (ipykernel)",
   "language": "python",
   "name": "python3"
  },
  "language_info": {
   "codemirror_mode": {
    "name": "ipython",
    "version": 3
   },
   "file_extension": ".py",
   "mimetype": "text/x-python",
   "name": "python",
   "nbconvert_exporter": "python",
   "pygments_lexer": "ipython3",
   "version": "3.9.16"
  }
 },
 "nbformat": 4,
 "nbformat_minor": 5
}
