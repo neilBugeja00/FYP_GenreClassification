{
 "cells": [
  {
   "cell_type": "code",
   "execution_count": 39,
   "id": "ae1179b4",
   "metadata": {},
   "outputs": [
    {
     "ename": "ModuleNotFoundError",
     "evalue": "No module named 'tensorflow'",
     "output_type": "error",
     "traceback": [
      "\u001b[0;31m---------------------------------------------------------------------------\u001b[0m",
      "\u001b[0;31mModuleNotFoundError\u001b[0m                       Traceback (most recent call last)",
      "Cell \u001b[0;32mIn[39], line 6\u001b[0m\n\u001b[1;32m      4\u001b[0m \u001b[38;5;28;01mimport\u001b[39;00m \u001b[38;5;21;01mmatplotlib\u001b[39;00m\u001b[38;5;21;01m.\u001b[39;00m\u001b[38;5;21;01mpyplot\u001b[39;00m \u001b[38;5;28;01mas\u001b[39;00m \u001b[38;5;21;01mplt\u001b[39;00m\n\u001b[1;32m      5\u001b[0m \u001b[38;5;28;01mimport\u001b[39;00m \u001b[38;5;21;01mlibrosa\u001b[39;00m\n\u001b[0;32m----> 6\u001b[0m \u001b[38;5;28;01mimport\u001b[39;00m \u001b[38;5;21;01mtensorflow\u001b[39;00m \u001b[38;5;28;01mas\u001b[39;00m \u001b[38;5;21;01mtf\u001b[39;00m\n\u001b[1;32m      7\u001b[0m \u001b[38;5;28;01mfrom\u001b[39;00m \u001b[38;5;21;01msklearn\u001b[39;00m\u001b[38;5;21;01m.\u001b[39;00m\u001b[38;5;21;01mmodel_selection\u001b[39;00m \u001b[38;5;28;01mimport\u001b[39;00m train_test_split, StratifiedShuffleSplit\n\u001b[1;32m      8\u001b[0m \u001b[38;5;28;01mfrom\u001b[39;00m \u001b[38;5;21;01mtensorflow\u001b[39;00m\u001b[38;5;21;01m.\u001b[39;00m\u001b[38;5;21;01mkeras\u001b[39;00m\u001b[38;5;21;01m.\u001b[39;00m\u001b[38;5;21;01mutils\u001b[39;00m \u001b[38;5;28;01mimport\u001b[39;00m plot_model\n",
      "\u001b[0;31mModuleNotFoundError\u001b[0m: No module named 'tensorflow'"
     ]
    }
   ],
   "source": [
    "import os\n",
    "import json\n",
    "import numpy as np\n",
    "import matplotlib.pyplot as plt\n",
    "import librosa\n",
    "import tensorflow as tf\n",
    "from sklearn.model_selection import train_test_split, StratifiedShuffleSplit\n",
    "from tensorflow.keras.utils import plot_model"
   ]
  },
  {
   "cell_type": "code",
   "execution_count": 5,
   "id": "b70b38c7",
   "metadata": {},
   "outputs": [],
   "source": [
    "audio_path = \"./audio_balanced\"\n",
    "json_path = \"audio_data.json\"\n",
    "\n",
    "sr=44100"
   ]
  },
  {
   "cell_type": "code",
   "execution_count": 35,
   "id": "66f28b90",
   "metadata": {},
   "outputs": [],
   "source": [
    "#Write MFCC data into JSON\n",
    "\n",
    "def write_data(audio_path, json_path):\n",
    "    #Dictionary of Genres and MFCC data\n",
    "    mydict = {\n",
    "        \"genres\":[],\n",
    "        \"mfcc\":[]\n",
    "    }\n",
    "    \n",
    "    #Generate MFCC for every song & writing in JSON\n",
    "    for i, (dirpath, dirnames, filenames) in enumerate(os.walk(audio_path)):\n",
    "        for file in filenames:\n",
    "            #Generate MFCC\n",
    "            song, sr = librosa.load(os.path.join(dirpath, file),duration=10)\n",
    "            mfcc = librosa.feature.mfcc(y=song, sr=sr, n_mfcc=40)\n",
    "            mfcc = mfcc.T\n",
    "            \n",
    "            #Data to be written in JSON\n",
    "            mydict[\"genres\"].append(i-1)\n",
    "            mydict[\"mfcc\"].append(mfcc.tolist())\n",
    "            \n",
    "        #Writing JSON \n",
    "        with open(json_path,'w') as f:\n",
    "            json.dump(mydict, f)\n",
    "        f.close()\n",
    "            "
   ]
  },
  {
   "cell_type": "code",
   "execution_count": 36,
   "id": "9e053343",
   "metadata": {},
   "outputs": [],
   "source": [
    "#READ MFCC data from JSON\n",
    "\n",
    "def read_data(json_path):\n",
    "    #Open JSON\n",
    "    with open(json_path, 'r') as f:\n",
    "        data = json.load(f)\n",
    "    f.close\n",
    "    \n",
    "    #Load data in numpy arrays for compatability reasons\n",
    "    X = np.array(data[\"mfcc\"])\n",
    "    y = np.array(data[\"genres\"])"
   ]
  },
  {
   "cell_type": "code",
   "execution_count": null,
   "id": "f1fb234f",
   "metadata": {},
   "outputs": [],
   "source": [
    "#Use random split to seperate data into training, validation and test\n",
    "\n",
    "def split_dataset(inputs, targets, split_size):\n",
    "    #Train, Validation & Test set\n",
    "    inputs_train, inputs_val, targets_train, targets_val = train_test_split(inputs, targets, test_size = split_size)\n",
    "    inputs_train, inputs_test, targets_train, targets_test = train_test_split(inputs_train, targets_train, test_size = split_size)\n",
    "\n",
    "    inputs_train = inputs_train[...,np.newaxis]\n",
    "    inputs_val = inputs_val[...,np.newaxis]\n",
    "    inputs_test=  inputs_test[..., np.axis]\n",
    "    \n",
    "    \n",
    "    return inputs_train, inputs_val, inputs_test, targets_train, targets_val, targets_test"
   ]
  },
  {
   "cell_type": "code",
   "execution_count": null,
   "id": "70e5f8b8",
   "metadata": {},
   "outputs": [],
   "source": [
    "#Use stratified split to seperate data into training, validation and test\n",
    "\n",
    "def stratified_split_dataset(inputs, targets, split_size):\n",
    "    #Train, Validation & Test set using stratified sampling\n",
    "    sss = StratifiedShuffleSplit(n_splits=1, test_size=split_size, random_state=42)\n",
    "    \n",
    "    train_val_indices, test_indices = next(sss.split(inputs, targets))\n",
    "    inputs_train_val, targets_train_val = inputs[train_val_indices], targets[train_val_indices]\n",
    "    \n",
    "    sss_train = StratifiedShuffleSplit(n_splits=1, test_size=split_size, random_state=43)\n",
    "    train_indices, val_indices = next(sss_train.split(inputs_train_val, targets_train_val))\n",
    "    \n",
    "    inputs_train, targets_train = inputs_train_val[train_indices], targets_train_val[train_indices]\n",
    "    inputs_val, targets_val = inputs_train_val[val_indices], targets_train_val[val_indices]\n",
    "    inputs_test, targets_test = inputs[test_indices], targets[test_indices]\n",
    "    \n",
    "    return inputs_train, inputs_val, inputs_test, targets_train, targets_val, targets_test"
   ]
  },
  {
   "cell_type": "code",
   "execution_count": null,
   "id": "8f53b3e6",
   "metadata": {},
   "outputs": [],
   "source": [
    "#Design the model\n",
    "def design_mdoel(input_shape):\n",
    "    \n",
    "    model = tf.keras.models.Sequential([\n",
    "        \n",
    "        tf.keras.layers.Conv2D(32, (3,3), activation='relu', input_shape=input_shape),\n",
    "        tf.keras.layers.MaxPooling2D((3,3), strides=(2,2), padding='same'),\n",
    "        tf.keras.layers.BatchNormalization(),\n",
    "        \n",
    "        tf.keras.layers.Conv2D(32, (3,3), activation='relu'),\n",
    "        tf.keras.layers.MaxPooling2D((3,3), strides=(2,2), padding='same'),\n",
    "        tf.keras.layers.BatchNormalization(),\n",
    "        \n",
    "        tf.keras.layers.Conv2D(32, (2,2), activation='relu'),\n",
    "        tf.keras.layers.MaxPooling2D((3,3), strides=(2,2), padding='same'),\n",
    "        tf.keras.layers.BatchNormalization(),\n",
    "        tf.keras.layers.Dropout(0.3),\n",
    "        \n",
    "        tf.keras.layers.Flatten(),\n",
    "        tf.keras.layers.Dense(64, activation='relu'), \n",
    "        tf.keras.layers.Dense(len(np.unique(targets)), activation='softmax')\n",
    "    ])\n",
    "\n",
    "    return model"
   ]
  },
  {
   "cell_type": "code",
   "execution_count": null,
   "id": "a43b97a7",
   "metadata": {},
   "outputs": [],
   "source": [
    "#Used to plot performance history of model\n",
    "def plot_performance(hist):\n",
    "    \n",
    "    acc = hist.history['acc']\n",
    "    val_acc = hist.history['val_acc']\n",
    "    loss = hist.history['loss']\n",
    "    val_loss = hist.history['val_loss']\n",
    "\n",
    "    epochs = range(len(acc))\n",
    "\n",
    "    plt.plot(epochs, acc, 'r', label='Training accuracy')\n",
    "    plt.plot(epochs, val_acc, 'b', label='Validation accuracy')\n",
    "    plt.title('Training and validation accuracy')\n",
    "    plt.legend()\n",
    "    plt.figure()\n",
    "\n",
    "    plt.plot(epochs, loss, 'r', label='Training Loss')\n",
    "    plt.plot(epochs, val_loss, 'b', label='Validation Loss')\n",
    "    plt.title('Training and validation loss')\n",
    "    plt.legend()\n",
    "\n",
    "    plt.show()"
   ]
  },
  {
   "cell_type": "code",
   "execution_count": null,
   "id": "c9f18e2d",
   "metadata": {},
   "outputs": [],
   "source": [
    "#=============MAIN ================\n",
    "#Process data\n",
    "write_data(audio_path, json_path)\n",
    "\n",
    "inputs, targets = read_data(json_path)\n",
    "\n",
    "Xtrain, Xval, Xtest, ytrain, yval, ytest = stratified_split_dataset(inputs, targets, 0.2)\n"
   ]
  },
  {
   "cell_type": "code",
   "execution_count": null,
   "id": "cea1a142",
   "metadata": {},
   "outputs": [],
   "source": [
    "#Model Creation\n",
    "input_shape = (Xtrain.shape[1], Xtrain.shape[2], 1)\n",
    "model = design_model(input_shape)\n",
    "\n",
    "model.compile(optimizer = tf.keras.optimizers.RMSprop(lr=0.001),\n",
    "             loss = 'sparse_categorical_crossentropy',\n",
    "             metrics = ['acc'])"
   ]
  },
  {
   "cell_type": "code",
   "execution_count": null,
   "id": "023c665c",
   "metadata": {},
   "outputs": [],
   "source": [
    "#Model Summary\n",
    "model.summary()"
   ]
  },
  {
   "cell_type": "code",
   "execution_count": null,
   "id": "e8ac2d4b",
   "metadata": {},
   "outputs": [],
   "source": [
    "#Plot Model\n",
    "plot_model(model, show_shapes=True, show_layer_names=True)"
   ]
  },
  {
   "cell_type": "code",
   "execution_count": null,
   "id": "60f6e3e0",
   "metadata": {},
   "outputs": [],
   "source": [
    "history = model.fit(Xtrain, ytain,\n",
    "                   validation_data = (Xval, yval),\n",
    "                   epochs = 100,\n",
    "                   batch_size = 32)"
   ]
  },
  {
   "cell_type": "code",
   "execution_count": null,
   "id": "583f1878",
   "metadata": {},
   "outputs": [],
   "source": [
    "#Plot Performance\n",
    "plot_performance(history)"
   ]
  },
  {
   "cell_type": "code",
   "execution_count": null,
   "id": "fdb351ab",
   "metadata": {},
   "outputs": [],
   "source": [
    "model.save('MFCC Num Model')"
   ]
  },
  {
   "cell_type": "code",
   "execution_count": null,
   "id": "c4b39615",
   "metadata": {},
   "outputs": [],
   "source": [
    "model.save('MFCC Num Model.h5', save_format='h5')"
   ]
  }
 ],
 "metadata": {
  "kernelspec": {
   "display_name": "Python 3 (ipykernel)",
   "language": "python",
   "name": "python3"
  },
  "language_info": {
   "codemirror_mode": {
    "name": "ipython",
    "version": 3
   },
   "file_extension": ".py",
   "mimetype": "text/x-python",
   "name": "python",
   "nbconvert_exporter": "python",
   "pygments_lexer": "ipython3",
   "version": "3.9.16"
  }
 },
 "nbformat": 4,
 "nbformat_minor": 5
}
