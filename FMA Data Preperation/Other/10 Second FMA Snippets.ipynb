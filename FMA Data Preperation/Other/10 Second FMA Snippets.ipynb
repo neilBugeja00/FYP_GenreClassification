{
 "cells": [
  {
   "cell_type": "code",
   "execution_count": 1,
   "id": "c9ce0dec",
   "metadata": {},
   "outputs": [],
   "source": [
    "#Create 10 second snippets of every song in the FMA dataset"
   ]
  },
  {
   "cell_type": "code",
   "execution_count": 2,
   "id": "1bc063d8",
   "metadata": {},
   "outputs": [],
   "source": [
    "import os\n",
    "from pydub import AudioSegment"
   ]
  },
  {
   "cell_type": "code",
   "execution_count": 3,
   "id": "48cbc6ed",
   "metadata": {},
   "outputs": [],
   "source": [
    "#Create directories\n",
    "try:\n",
    "    os.makedirs('./audio_samples')\n",
    "except FileExistsError:\n",
    "    pass"
   ]
  },
  {
   "cell_type": "code",
   "execution_count": 4,
   "id": "6bfc819b",
   "metadata": {},
   "outputs": [],
   "source": [
    "#Declaring genres & sr\n",
    "genres = 'blues classical country folk hiphop jazz pop rock'\n",
    "genres = genres.split()\n",
    "\n",
    "sr=44100"
   ]
  },
  {
   "cell_type": "code",
   "execution_count": 5,
   "id": "ef60e828",
   "metadata": {},
   "outputs": [],
   "source": [
    "#Creating genres files\n",
    "\n",
    "for g in genres:\n",
    "    path = os.path.join('./audio_samples', f'{g}')\n",
    "    try:\n",
    "        os.makedirs(path)\n",
    "    except FileExistsError:\n",
    "        pass"
   ]
  },
  {
   "cell_type": "code",
   "execution_count": 6,
   "id": "07eb42c3",
   "metadata": {},
   "outputs": [
    {
     "name": "stdout",
     "output_type": "stream",
     "text": [
      "blues\n",
      "classical\n",
      "country\n",
      "folk\n",
      "hiphop\n",
      "jazz\n",
      "pop\n",
      "rock\n"
     ]
    }
   ],
   "source": [
    "#Grabs each song in the dataset and snips it in 3 parts (10 secs each)\n",
    "#The snippets are stored in the 'audio_samples' file under their correct genre\n",
    "\n",
    "\n",
    "i = 0\n",
    "for g in genres:\n",
    "    j = 0\n",
    "    print(f\"{g}\")\n",
    "    \n",
    "    directory = './FMA_Samples'\n",
    "    for filename in os.listdir(os.path.join(directory, f\"{g}\")):\n",
    "        song = os.path.join(f'{directory}/{g}', f'{filename}')\n",
    "        j += 1\n",
    "        for w in range(0, 3):\n",
    "            i += 1\n",
    "            t1 = 10 * w * 1000\n",
    "            t2 = 10 * (w + 1) * 1000\n",
    "            newAudio = AudioSegment.from_wav(song)\n",
    "            new = newAudio[t1:t2]\n",
    "            \n",
    "            new.export(\n",
    "                f'./audio_samples/{g}/{g}{j}{w}.wav', format=\"wav\")"
   ]
  }
 ],
 "metadata": {
  "kernelspec": {
   "display_name": "Python 3 (ipykernel)",
   "language": "python",
   "name": "python3"
  },
  "language_info": {
   "codemirror_mode": {
    "name": "ipython",
    "version": 3
   },
   "file_extension": ".py",
   "mimetype": "text/x-python",
   "name": "python",
   "nbconvert_exporter": "python",
   "pygments_lexer": "ipython3",
   "version": "3.9.16"
  }
 },
 "nbformat": 4,
 "nbformat_minor": 5
}
