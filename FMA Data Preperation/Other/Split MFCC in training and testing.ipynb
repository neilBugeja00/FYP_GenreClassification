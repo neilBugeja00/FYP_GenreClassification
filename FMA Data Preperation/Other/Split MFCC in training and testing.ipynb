{
 "cells": [
  {
   "cell_type": "code",
   "execution_count": 1,
   "id": "ad0507cd",
   "metadata": {},
   "outputs": [],
   "source": [
    "import os\n",
    "import librosa\n",
    "import random\n",
    "import shutil\n",
    "from sklearn.model_selection import train_test_split\n",
    "\n",
    "# COLAB = True\n",
    "COLAB = False\n"
   ]
  },
  {
   "cell_type": "code",
   "execution_count": 2,
   "id": "8ebcf829",
   "metadata": {},
   "outputs": [],
   "source": [
    "directory = \"./mfcc/train large\"\n",
    "\n",
    "# Get a list of all the genres\n",
    "genres = os.listdir(directory)"
   ]
  },
  {
   "cell_type": "code",
   "execution_count": 3,
   "id": "676c9394",
   "metadata": {},
   "outputs": [],
   "source": [
    "# Create lists to hold the file paths and corresponding labels\n",
    "file_paths = []\n",
    "labels = []"
   ]
  },
  {
   "cell_type": "code",
   "execution_count": 4,
   "id": "46b91fbd",
   "metadata": {},
   "outputs": [],
   "source": [
    "# Iterate over each genre and add its file paths and label to the lists\n",
    "for i, genre in enumerate(genres):\n",
    "    genre_dir = os.path.join(directory, genre)\n",
    "    filenames = os.listdir(genre_dir)\n",
    "    file_paths += [os.path.join(genre_dir, f) for f in filenames]\n",
    "    labels += [i] * len(filenames)"
   ]
  },
  {
   "cell_type": "code",
   "execution_count": 5,
   "id": "ee4cdd42",
   "metadata": {},
   "outputs": [],
   "source": [
    "# Perform stratified sampling on an 80/20 split\n",
    "train_paths, test_paths, train_labels, test_labels = train_test_split(\n",
    "    file_paths, labels, test_size=0.2, random_state=42, stratify=labels)"
   ]
  },
  {
   "cell_type": "code",
   "execution_count": 6,
   "id": "acf09678",
   "metadata": {},
   "outputs": [],
   "source": [
    "# Move the training files to a new directory\n",
    "train_dir = f\"{directory[:-6]}train/\"\n",
    "os.makedirs(train_dir, exist_ok=True)\n",
    "for path, label in zip(train_paths, train_labels):\n",
    "    genre = genres[label]\n",
    "    dest_dir = os.path.join(train_dir, genre)\n",
    "    os.makedirs(dest_dir, exist_ok=True)\n",
    "    shutil.copy(path, dest_dir)\n",
    "\n",
    "# Move the testing files to a new directory\n",
    "test_dir = f\"{directory[:-6]}test/\"\n",
    "os.makedirs(test_dir, exist_ok=True)\n",
    "for path, label in zip(test_paths, test_labels):\n",
    "    genre = genres[label]\n",
    "    dest_dir = os.path.join(test_dir, genre)\n",
    "    os.makedirs(dest_dir, exist_ok=True)\n",
    "    shutil.copy(path, dest_dir)"
   ]
  }
 ],
 "metadata": {
  "kernelspec": {
   "display_name": "Python 3 (ipykernel)",
   "language": "python",
   "name": "python3"
  },
  "language_info": {
   "codemirror_mode": {
    "name": "ipython",
    "version": 3
   },
   "file_extension": ".py",
   "mimetype": "text/x-python",
   "name": "python",
   "nbconvert_exporter": "python",
   "pygments_lexer": "ipython3",
   "version": "3.9.16"
  }
 },
 "nbformat": 4,
 "nbformat_minor": 5
}
