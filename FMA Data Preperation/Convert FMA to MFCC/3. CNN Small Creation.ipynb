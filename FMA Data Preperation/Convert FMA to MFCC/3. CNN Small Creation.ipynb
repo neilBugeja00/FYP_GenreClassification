{
 "cells": [
  {
   "cell_type": "code",
   "execution_count": null,
   "id": "9767573f",
   "metadata": {},
   "outputs": [],
   "source": [
    "import numpy as np\n",
    "import os\n",
    "import matplotlib.pyplot as plt\n",
    "import librosa\n",
    "import random\n",
    "import shutil\n",
    "from pydub import AudioSegment\n",
    "from matplotlib.backends.backend_agg import FigureCanvasAgg\n",
    "from tensorflow.keras.optimizers import Adam\n",
    "from keras.layers import Input, Dense, Activation, BatchNormalization, Flatten, Conv2D, MaxPooling2D, Dropout\n",
    "from keras.models import Model\n",
    "from keras.initializers import glorot_uniform\n",
    "from keras.preprocessing.image import ImageDataGenerator\n",
    "import keras.backend as K\n",
    "\n",
    "# COLAB = True\n",
    "COLAB = False\n"
   ]
  },
  {
   "cell_type": "code",
   "execution_count": null,
   "id": "c2d0e1ba",
   "metadata": {},
   "outputs": [],
   "source": [
    "train_directory = \"./mfcc/mfcctrain\"\n",
    "train_data_generator = ImageDataGenerator(rescale=1./255)\n",
    "train_generator = train_data_generator.flow_from_directory(train_directory, target_size=(\n",
    "    288, 432), color_mode=\"rgba\", class_mode='categorical', batch_size=128)\n",
    "\n",
    "validation_directory = \"./mfcc/mfcctest\"\n",
    "validation_data_generator = ImageDataGenerator(rescale=1./255)\n",
    "validation_generator = validation_data_generator.flow_from_directory(validation_directory, target_size=(\n",
    "    288, 432), color_mode='rgba', class_mode='categorical', batch_size=128)"
   ]
  },
  {
   "cell_type": "code",
   "execution_count": null,
   "id": "0bf41615",
   "metadata": {},
   "outputs": [],
   "source": [
    "def cnn(input_shape=(640, 480, 4), classes=7):\n",
    "    def step(dim, X):\n",
    "        X = Conv2D(dim, kernel_size=(3, 3), strides=(1, 1))(X)\n",
    "        X = BatchNormalization(axis=3)(X)\n",
    "        X = Activation('relu')(X)\n",
    "        return MaxPooling2D((2, 2))(X)\n",
    "    X_input = Input(input_shape)\n",
    "    X = X_input\n",
    "    layer_dims = [8, 16, 32, 64, 128, 256]\n",
    "    for dim in layer_dims:\n",
    "        X = step(dim, X)\n",
    "\n",
    "    X = Flatten()(X)\n",
    "    X = Dropout(rate=0.3)(X)\n",
    "    X = Dense(classes, activation='softmax',\n",
    "              name=f'fc{classes}',  kernel_initializer=glorot_uniform(seed=9))(X)\n",
    "    model = Model(inputs=X_input, outputs=X, name='cnn')\n",
    "    return model\n",
    "\n",
    "def f1_score(y_true, y_pred):\n",
    "    true_positives = K.sum(K.round(K.clip(y_true * y_pred, 0, 1)))\n",
    "    possible_positives = K.sum(K.round(K.clip(y_true, 0, 1)))\n",
    "    predicted_positives = K.sum(K.round(K.clip(y_pred, 0, 1)))\n",
    "    precision = true_positives / (predicted_positives + K.epsilon())\n",
    "    recall = true_positives / (possible_positives + K.epsilon())\n",
    "    f1_val = 2 * (precision * recall) / (precision + recall + K.epsilon())\n",
    "    return f1_val"
   ]
  },
  {
   "cell_type": "code",
   "execution_count": null,
   "id": "4cb1d9f2",
   "metadata": {},
   "outputs": [],
   "source": [
    "model = cnn(input_shape=(640, 480, 4), classes=7)\n",
    "opt = Adam(learning_rate=0.00005)\n",
    "model.compile(optimizer=opt, loss='categorical_crossentropy', metrics=['accuracy', f1_score])\n",
    "model.summary()"
   ]
  },
  {
   "cell_type": "code",
   "execution_count": null,
   "id": "c5176b85",
   "metadata": {},
   "outputs": [],
   "source": [
    "history = model.fit(train_generator, epochs=100, validation_data=validation_generator)"
   ]
  },
  {
   "cell_type": "code",
   "execution_count": null,
   "id": "7a78d49d",
   "metadata": {},
   "outputs": [],
   "source": [
    "plt.plot(history.history['accuracy'])\n",
    "plt.plot(history.history['val_accuracy'])\n",
    "plt.title('model accuracy')\n",
    "plt.ylabel('accuracy')\n",
    "plt.xlabel('epoch')\n",
    "plt.grid()\n",
    "plt.legend(['train', 'val'], loc='upper left')\n",
    "plt.show()"
   ]
  },
  {
   "cell_type": "code",
   "execution_count": null,
   "id": "0363a057",
   "metadata": {},
   "outputs": [],
   "source": [
    "plt.plot(history.history['loss'])\n",
    "plt.plot(history.history['val_loss'])\n",
    "plt.title('model loss')\n",
    "plt.ylabel('loss')\n",
    "plt.xlabel('epoch')\n",
    "plt.grid()\n",
    "plt.legend(['train', 'val'], loc='upper left')\n",
    "plt.show()"
   ]
  },
  {
   "cell_type": "code",
   "execution_count": null,
   "id": "2144ebdf",
   "metadata": {},
   "outputs": [],
   "source": [
    "model.save('MFCC_Small.h5', save_format='h5')"
   ]
  }
 ],
 "metadata": {
  "kernelspec": {
   "display_name": "Python 3 (ipykernel)",
   "language": "python",
   "name": "python3"
  },
  "language_info": {
   "codemirror_mode": {
    "name": "ipython",
    "version": 3
   },
   "file_extension": ".py",
   "mimetype": "text/x-python",
   "name": "python",
   "nbconvert_exporter": "python",
   "pygments_lexer": "ipython3",
   "version": "3.9.16"
  }
 },
 "nbformat": 4,
 "nbformat_minor": 5
}
